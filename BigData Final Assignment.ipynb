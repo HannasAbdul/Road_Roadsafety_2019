{
 "cells": [
  {
   "cell_type": "code",
   "execution_count": 193,
   "id": "4746950d",
   "metadata": {},
   "outputs": [],
   "source": [
    "import pandas as pd\n",
    "import csv\n",
    "import sklearn\n",
    "import datetime as dt\n",
    "import matplotlib.pyplot as plt\n",
    "from sklearn.feature_selection import SelectKBest, chi2, f_regression, f_classif\n",
    "import seaborn as sns\n",
    "import numpy as np\n",
    "import datetime\n",
    "# !pip install sweetviz"
   ]
  },
  {
   "cell_type": "code",
   "execution_count": 194,
   "id": "0758d124",
   "metadata": {},
   "outputs": [
    {
     "name": "stderr",
     "output_type": "stream",
     "text": [
      "/opt/anaconda3/lib/python3.8/site-packages/IPython/core/interactiveshell.py:3437: DtypeWarning: Columns (0,31) have mixed types.Specify dtype option on import or set low_memory=False.\n",
      "  exec(code_obj, self.user_global_ns, self.user_ns)\n",
      "/opt/anaconda3/lib/python3.8/site-packages/IPython/core/interactiveshell.py:3437: DtypeWarning: Columns (0) have mixed types.Specify dtype option on import or set low_memory=False.\n",
      "  exec(code_obj, self.user_global_ns, self.user_ns)\n"
     ]
    }
   ],
   "source": [
    "#read in the three dataset\n",
    "accident_df = pd.read_csv('Road Safety Data - Accidents 2019.csv')\n",
    "casualties_df = pd.read_csv('Road Safety Data - Casualties 2019.csv')\n",
    "vehicles_df = pd.read_csv('Road Safety Data- Vehicles 2019.csv')"
   ]
  },
  {
   "cell_type": "markdown",
   "id": "32f652c1",
   "metadata": {},
   "source": [
    "### Data pre-processing and cleaning"
   ]
  },
  {
   "cell_type": "code",
   "execution_count": 306,
   "id": "032c1ff9",
   "metadata": {},
   "outputs": [],
   "source": [
    "accident_df[\"LSOA_of_Accident_Location\"].replace(np.nan, \"uknown\", inplace=True)\n",
    "accident_df.Time.fillna(accident_df.Time.mode()[0], inplace = True)\n",
    "row_fills = accident_df.Latitude[accident_df.Latitude.isnull()].index.to_list()\n",
    "for row in row_fills:\n",
    "    key = accident_df.loc[row, 'Local_Authority_(District)']\n",
    "    accident_df.loc[row, 'Longitude'] = np.mean(accident_df[accident_df['Local_Authority_(District)'] == key]['Longitude'])\n",
    "    \n",
    "for row in row_fills:\n",
    "    key = accident_df.loc[row, 'Local_Authority_(District)']\n",
    "    accident_df.loc[row, 'Latitude'] = np.mean(accident_df[accident_df['Local_Authority_(District)'] == key]['Latitude']) "
   ]
  },
  {
   "cell_type": "code",
   "execution_count": 314,
   "id": "f77f89c2",
   "metadata": {},
   "outputs": [],
   "source": [
    "# adds decimal time, hour, day and minute to the df\n",
    "def tdh(df):\n",
    "    df['hour'] = df.Time.dt.hour\n",
    "    df['minute'] = df.Time.dt.minute\n",
    "    df['decimal_time'] = df.hour + df.minute/60\n",
    "    df['day'] = df.Date.dt.day\n",
    "\n",
    "# create a function to determine the hours of the day which accidents occur.\n",
    "def timeperiod(hour):\n",
    "    if hour in range(6, 10):\n",
    "        return 'Morning Rush Hour(6-10)'\n",
    "    elif hour in range(10, 15):\n",
    "        return 'off peak period (10-15)'\n",
    "    elif hour in range(15, 19):\n",
    "        return 'Afternoon Rush Hour (15-19)'\n",
    "    elif hour in range(19, 23):\n",
    "         return 'End of Work (19-23)'\n",
    "    else:\n",
    "            return 'Late Night (23-6)'\n",
    "\n",
    "# Create function to convert variables with object datatypes to string.      \n",
    "def convert_to_string(df, col):\n",
    "    df[col] = df[col].apply(str)\n",
    "def tdh(df):\n",
    "    df['hour'] = df.Time.dt.hour\n",
    "    df['minute'] = df.Time.dt.minute\n",
    "    df['decimal_time'] = df.hour + df.minute/60\n",
    "    df['day'] = df.Date.dt.day\n",
    "\n",
    "# create a function to determine the hours of the day which accidents occur.\n",
    "def timeperiod(hour):\n",
    "    if hour in range(6, 10):\n",
    "        return 'Morning Rush Hour(6-10)'\n",
    "    elif hour in range(10, 15):\n",
    "        return 'off peak period (10-15)'\n",
    "    elif hour in range(15, 19):\n",
    "        return 'Afternoon Rush Hour (15-19)'\n",
    "    elif hour in range(19, 23):\n",
    "         return 'End of Work (19-23)'\n",
    "    else:\n",
    "            return 'Late Night (23-6)'\n",
    "\n",
    "# Create function to convert variables with object datatypes to string.      \n",
    "def convert_to_string(df, col):\n",
    "    df[col] = df[col].apply(str)\n",
    "    \n",
    "    \n",
    "def convert_date(col):\n",
    "    accident_df[col] = pd.to_datetime(accident_df[col])"
   ]
  },
  {
   "cell_type": "code",
   "execution_count": 316,
   "id": "f6b1bd40",
   "metadata": {},
   "outputs": [],
   "source": [
    "# changes all \n",
    "convert_to_string(accident_df, 'Accident_Index')\n",
    "convert_to_string(vehicles_df, 'Accident_Index')\n",
    "convert_to_string(casualties_df, 'Accident_Index')\n",
    "convert_date('Time')\n",
    "convert_date('Date')\n",
    "tdh(accident_df)\n",
    "accident_df['period'] = accident_df['hour'].apply(timeperiod)      \n",
    "accident_df['Week_Day'] = accident_df['Day_of_Week'].map({1: 'Sunday', 2:'Monday', 3: 'Tuesday', 4: 'Wednesday', 5: 'Thursday', 6: 'Friday', 7: 'Saturday'})"
   ]
  },
  {
   "cell_type": "code",
   "execution_count": 310,
   "id": "7896f756",
   "metadata": {},
   "outputs": [],
   "source": [
    "#convert time to decimal time\n",
    "# accident_df['converted_time'] = pd.DatetimeIndex(accident_df['Time'])\n",
    "# accident_df[\"decimal_time\"] = accident_df['converted_time'].dt.hour + accident_df['converted_time'].dt.minute/60\n"
   ]
  },
  {
   "cell_type": "markdown",
   "id": "f1b78b13",
   "metadata": {},
   "source": [
    "### QUESTION A - ARE THERE SIGNIFICANT HOURS OF THE DAY, DAYS OF THE WEEK, ON WHICH ACCIDENTS OCCUR?"
   ]
  },
  {
   "cell_type": "code",
   "execution_count": 317,
   "id": "6043bb52",
   "metadata": {},
   "outputs": [
    {
     "data": {
      "text/html": [
       "<div>\n",
       "<style scoped>\n",
       "    .dataframe tbody tr th:only-of-type {\n",
       "        vertical-align: middle;\n",
       "    }\n",
       "\n",
       "    .dataframe tbody tr th {\n",
       "        vertical-align: top;\n",
       "    }\n",
       "\n",
       "    .dataframe thead th {\n",
       "        text-align: right;\n",
       "    }\n",
       "</style>\n",
       "<table border=\"1\" class=\"dataframe\">\n",
       "  <thead>\n",
       "    <tr style=\"text-align: right;\">\n",
       "      <th></th>\n",
       "      <th>Accident_Index</th>\n",
       "      <th>Location_Easting_OSGR</th>\n",
       "      <th>Location_Northing_OSGR</th>\n",
       "      <th>Longitude</th>\n",
       "      <th>Latitude</th>\n",
       "      <th>Police_Force</th>\n",
       "      <th>Accident_Severity</th>\n",
       "      <th>Number_of_Vehicles</th>\n",
       "      <th>Number_of_Casualties</th>\n",
       "      <th>Date</th>\n",
       "      <th>...</th>\n",
       "      <th>sunset</th>\n",
       "      <th>sunrise_decimal_time</th>\n",
       "      <th>sunset_decimal_time</th>\n",
       "      <th>Weather</th>\n",
       "      <th>Roads</th>\n",
       "      <th>Road_surface</th>\n",
       "      <th>sunrise_before</th>\n",
       "      <th>sunrise_after</th>\n",
       "      <th>sunset_before</th>\n",
       "      <th>sunset_after</th>\n",
       "    </tr>\n",
       "  </thead>\n",
       "  <tbody>\n",
       "    <tr>\n",
       "      <th>0</th>\n",
       "      <td>2019010128300</td>\n",
       "      <td>528218.0</td>\n",
       "      <td>180407.0</td>\n",
       "      <td>-0.153842</td>\n",
       "      <td>51.508057</td>\n",
       "      <td>1</td>\n",
       "      <td>3</td>\n",
       "      <td>2</td>\n",
       "      <td>3</td>\n",
       "      <td>2019-02-18</td>\n",
       "      <td>...</td>\n",
       "      <td>2022-04-29 17:20:00</td>\n",
       "      <td>7.166667</td>\n",
       "      <td>17.333333</td>\n",
       "      <td>Fine no high winds</td>\n",
       "      <td>Roundabout</td>\n",
       "      <td>Data missing</td>\n",
       "      <td>False</td>\n",
       "      <td>False</td>\n",
       "      <td>False</td>\n",
       "      <td>False</td>\n",
       "    </tr>\n",
       "    <tr>\n",
       "      <th>1</th>\n",
       "      <td>2019010152270</td>\n",
       "      <td>530219.0</td>\n",
       "      <td>172463.0</td>\n",
       "      <td>-0.127949</td>\n",
       "      <td>51.436208</td>\n",
       "      <td>1</td>\n",
       "      <td>3</td>\n",
       "      <td>2</td>\n",
       "      <td>1</td>\n",
       "      <td>2019-01-15</td>\n",
       "      <td>...</td>\n",
       "      <td>2022-04-29 16:21:00</td>\n",
       "      <td>8.000000</td>\n",
       "      <td>16.350000</td>\n",
       "      <td>Fine no high winds</td>\n",
       "      <td>One way street</td>\n",
       "      <td>Data missing</td>\n",
       "      <td>False</td>\n",
       "      <td>False</td>\n",
       "      <td>False</td>\n",
       "      <td>False</td>\n",
       "    </tr>\n",
       "    <tr>\n",
       "      <th>2</th>\n",
       "      <td>2019010155191</td>\n",
       "      <td>530222.0</td>\n",
       "      <td>182543.0</td>\n",
       "      <td>-0.124193</td>\n",
       "      <td>51.526795</td>\n",
       "      <td>1</td>\n",
       "      <td>3</td>\n",
       "      <td>2</td>\n",
       "      <td>1</td>\n",
       "      <td>2019-01-01</td>\n",
       "      <td>...</td>\n",
       "      <td>2022-04-29 16:02:00</td>\n",
       "      <td>8.116667</td>\n",
       "      <td>16.033333</td>\n",
       "      <td>Fine no high winds</td>\n",
       "      <td>Single carriageway</td>\n",
       "      <td>Data missing</td>\n",
       "      <td>False</td>\n",
       "      <td>False</td>\n",
       "      <td>False</td>\n",
       "      <td>False</td>\n",
       "    </tr>\n",
       "    <tr>\n",
       "      <th>3</th>\n",
       "      <td>2019010155192</td>\n",
       "      <td>525531.0</td>\n",
       "      <td>184605.0</td>\n",
       "      <td>-0.191044</td>\n",
       "      <td>51.546387</td>\n",
       "      <td>1</td>\n",
       "      <td>2</td>\n",
       "      <td>1</td>\n",
       "      <td>1</td>\n",
       "      <td>2019-01-01</td>\n",
       "      <td>...</td>\n",
       "      <td>2022-04-29 16:02:00</td>\n",
       "      <td>8.116667</td>\n",
       "      <td>16.033333</td>\n",
       "      <td>Fine no high winds</td>\n",
       "      <td>Single carriageway</td>\n",
       "      <td>Data missing</td>\n",
       "      <td>False</td>\n",
       "      <td>False</td>\n",
       "      <td>False</td>\n",
       "      <td>False</td>\n",
       "    </tr>\n",
       "    <tr>\n",
       "      <th>4</th>\n",
       "      <td>2019010155194</td>\n",
       "      <td>524920.0</td>\n",
       "      <td>184004.0</td>\n",
       "      <td>-0.200064</td>\n",
       "      <td>51.541121</td>\n",
       "      <td>1</td>\n",
       "      <td>3</td>\n",
       "      <td>2</td>\n",
       "      <td>2</td>\n",
       "      <td>2019-01-01</td>\n",
       "      <td>...</td>\n",
       "      <td>2022-04-29 16:02:00</td>\n",
       "      <td>8.116667</td>\n",
       "      <td>16.033333</td>\n",
       "      <td>Fine no high winds</td>\n",
       "      <td>Single carriageway</td>\n",
       "      <td>Data missing</td>\n",
       "      <td>False</td>\n",
       "      <td>False</td>\n",
       "      <td>False</td>\n",
       "      <td>False</td>\n",
       "    </tr>\n",
       "    <tr>\n",
       "      <th>...</th>\n",
       "      <td>...</td>\n",
       "      <td>...</td>\n",
       "      <td>...</td>\n",
       "      <td>...</td>\n",
       "      <td>...</td>\n",
       "      <td>...</td>\n",
       "      <td>...</td>\n",
       "      <td>...</td>\n",
       "      <td>...</td>\n",
       "      <td>...</td>\n",
       "      <td>...</td>\n",
       "      <td>...</td>\n",
       "      <td>...</td>\n",
       "      <td>...</td>\n",
       "      <td>...</td>\n",
       "      <td>...</td>\n",
       "      <td>...</td>\n",
       "      <td>...</td>\n",
       "      <td>...</td>\n",
       "      <td>...</td>\n",
       "      <td>...</td>\n",
       "    </tr>\n",
       "    <tr>\n",
       "      <th>117531</th>\n",
       "      <td>2019984106919</td>\n",
       "      <td>312635.0</td>\n",
       "      <td>573392.0</td>\n",
       "      <td>-3.368899</td>\n",
       "      <td>55.047323</td>\n",
       "      <td>98</td>\n",
       "      <td>3</td>\n",
       "      <td>1</td>\n",
       "      <td>1</td>\n",
       "      <td>2019-05-18</td>\n",
       "      <td>...</td>\n",
       "      <td>2022-04-29 21:19:00</td>\n",
       "      <td>5.016667</td>\n",
       "      <td>21.316667</td>\n",
       "      <td>Fine no high winds</td>\n",
       "      <td>Single carriageway</td>\n",
       "      <td>Wet or damp</td>\n",
       "      <td>False</td>\n",
       "      <td>False</td>\n",
       "      <td>False</td>\n",
       "      <td>False</td>\n",
       "    </tr>\n",
       "    <tr>\n",
       "      <th>117532</th>\n",
       "      <td>2019984107019</td>\n",
       "      <td>337522.0</td>\n",
       "      <td>591682.0</td>\n",
       "      <td>-2.983499</td>\n",
       "      <td>55.215407</td>\n",
       "      <td>98</td>\n",
       "      <td>3</td>\n",
       "      <td>4</td>\n",
       "      <td>1</td>\n",
       "      <td>2019-05-30</td>\n",
       "      <td>...</td>\n",
       "      <td>2022-04-29 21:38:00</td>\n",
       "      <td>4.700000</td>\n",
       "      <td>21.633333</td>\n",
       "      <td>Fine no high winds</td>\n",
       "      <td>Single carriageway</td>\n",
       "      <td>Wet or damp</td>\n",
       "      <td>False</td>\n",
       "      <td>False</td>\n",
       "      <td>False</td>\n",
       "      <td>False</td>\n",
       "    </tr>\n",
       "    <tr>\n",
       "      <th>117533</th>\n",
       "      <td>2019984107219</td>\n",
       "      <td>318544.0</td>\n",
       "      <td>567087.0</td>\n",
       "      <td>-3.274645</td>\n",
       "      <td>54.991685</td>\n",
       "      <td>98</td>\n",
       "      <td>3</td>\n",
       "      <td>2</td>\n",
       "      <td>1</td>\n",
       "      <td>2019-06-21</td>\n",
       "      <td>...</td>\n",
       "      <td>2022-04-29 21:56:00</td>\n",
       "      <td>4.566667</td>\n",
       "      <td>21.933333</td>\n",
       "      <td>Fine no high winds</td>\n",
       "      <td>Single carriageway</td>\n",
       "      <td>Data missing</td>\n",
       "      <td>False</td>\n",
       "      <td>False</td>\n",
       "      <td>False</td>\n",
       "      <td>False</td>\n",
       "    </tr>\n",
       "    <tr>\n",
       "      <th>117534</th>\n",
       "      <td>2019984107419</td>\n",
       "      <td>336525.0</td>\n",
       "      <td>584226.0</td>\n",
       "      <td>-2.997491</td>\n",
       "      <td>55.148292</td>\n",
       "      <td>98</td>\n",
       "      <td>3</td>\n",
       "      <td>1</td>\n",
       "      <td>1</td>\n",
       "      <td>2019-06-29</td>\n",
       "      <td>...</td>\n",
       "      <td>2022-04-29 21:55:00</td>\n",
       "      <td>4.583333</td>\n",
       "      <td>21.916667</td>\n",
       "      <td>Fine no high winds</td>\n",
       "      <td>Single carriageway</td>\n",
       "      <td>Data missing</td>\n",
       "      <td>False</td>\n",
       "      <td>False</td>\n",
       "      <td>False</td>\n",
       "      <td>False</td>\n",
       "    </tr>\n",
       "    <tr>\n",
       "      <th>117535</th>\n",
       "      <td>201998QC01004</td>\n",
       "      <td>291367.0</td>\n",
       "      <td>608364.0</td>\n",
       "      <td>-3.715064</td>\n",
       "      <td>55.357237</td>\n",
       "      <td>98</td>\n",
       "      <td>2</td>\n",
       "      <td>1</td>\n",
       "      <td>1</td>\n",
       "      <td>2019-04-21</td>\n",
       "      <td>...</td>\n",
       "      <td>2022-04-29 20:31:00</td>\n",
       "      <td>5.950000</td>\n",
       "      <td>20.516667</td>\n",
       "      <td>Fine no high winds</td>\n",
       "      <td>Single carriageway</td>\n",
       "      <td>Data missing</td>\n",
       "      <td>False</td>\n",
       "      <td>False</td>\n",
       "      <td>False</td>\n",
       "      <td>False</td>\n",
       "    </tr>\n",
       "  </tbody>\n",
       "</table>\n",
       "<p>117536 rows × 53 columns</p>\n",
       "</div>"
      ],
      "text/plain": [
       "       Accident_Index  Location_Easting_OSGR  Location_Northing_OSGR  \\\n",
       "0       2019010128300               528218.0                180407.0   \n",
       "1       2019010152270               530219.0                172463.0   \n",
       "2       2019010155191               530222.0                182543.0   \n",
       "3       2019010155192               525531.0                184605.0   \n",
       "4       2019010155194               524920.0                184004.0   \n",
       "...               ...                    ...                     ...   \n",
       "117531  2019984106919               312635.0                573392.0   \n",
       "117532  2019984107019               337522.0                591682.0   \n",
       "117533  2019984107219               318544.0                567087.0   \n",
       "117534  2019984107419               336525.0                584226.0   \n",
       "117535  201998QC01004               291367.0                608364.0   \n",
       "\n",
       "        Longitude   Latitude  Police_Force  Accident_Severity  \\\n",
       "0       -0.153842  51.508057             1                  3   \n",
       "1       -0.127949  51.436208             1                  3   \n",
       "2       -0.124193  51.526795             1                  3   \n",
       "3       -0.191044  51.546387             1                  2   \n",
       "4       -0.200064  51.541121             1                  3   \n",
       "...           ...        ...           ...                ...   \n",
       "117531  -3.368899  55.047323            98                  3   \n",
       "117532  -2.983499  55.215407            98                  3   \n",
       "117533  -3.274645  54.991685            98                  3   \n",
       "117534  -2.997491  55.148292            98                  3   \n",
       "117535  -3.715064  55.357237            98                  2   \n",
       "\n",
       "        Number_of_Vehicles  Number_of_Casualties       Date  ...  \\\n",
       "0                        2                     3 2019-02-18  ...   \n",
       "1                        2                     1 2019-01-15  ...   \n",
       "2                        2                     1 2019-01-01  ...   \n",
       "3                        1                     1 2019-01-01  ...   \n",
       "4                        2                     2 2019-01-01  ...   \n",
       "...                    ...                   ...        ...  ...   \n",
       "117531                   1                     1 2019-05-18  ...   \n",
       "117532                   4                     1 2019-05-30  ...   \n",
       "117533                   2                     1 2019-06-21  ...   \n",
       "117534                   1                     1 2019-06-29  ...   \n",
       "117535                   1                     1 2019-04-21  ...   \n",
       "\n",
       "                    sunset sunrise_decimal_time  sunset_decimal_time  \\\n",
       "0      2022-04-29 17:20:00             7.166667            17.333333   \n",
       "1      2022-04-29 16:21:00             8.000000            16.350000   \n",
       "2      2022-04-29 16:02:00             8.116667            16.033333   \n",
       "3      2022-04-29 16:02:00             8.116667            16.033333   \n",
       "4      2022-04-29 16:02:00             8.116667            16.033333   \n",
       "...                    ...                  ...                  ...   \n",
       "117531 2022-04-29 21:19:00             5.016667            21.316667   \n",
       "117532 2022-04-29 21:38:00             4.700000            21.633333   \n",
       "117533 2022-04-29 21:56:00             4.566667            21.933333   \n",
       "117534 2022-04-29 21:55:00             4.583333            21.916667   \n",
       "117535 2022-04-29 20:31:00             5.950000            20.516667   \n",
       "\n",
       "                   Weather               Roads  Road_surface  sunrise_before  \\\n",
       "0       Fine no high winds          Roundabout  Data missing           False   \n",
       "1       Fine no high winds      One way street  Data missing           False   \n",
       "2       Fine no high winds  Single carriageway  Data missing           False   \n",
       "3       Fine no high winds  Single carriageway  Data missing           False   \n",
       "4       Fine no high winds  Single carriageway  Data missing           False   \n",
       "...                    ...                 ...           ...             ...   \n",
       "117531  Fine no high winds  Single carriageway   Wet or damp           False   \n",
       "117532  Fine no high winds  Single carriageway   Wet or damp           False   \n",
       "117533  Fine no high winds  Single carriageway  Data missing           False   \n",
       "117534  Fine no high winds  Single carriageway  Data missing           False   \n",
       "117535  Fine no high winds  Single carriageway  Data missing           False   \n",
       "\n",
       "        sunrise_after  sunset_before  sunset_after  \n",
       "0               False          False         False  \n",
       "1               False          False         False  \n",
       "2               False          False         False  \n",
       "3               False          False         False  \n",
       "4               False          False         False  \n",
       "...               ...            ...           ...  \n",
       "117531          False          False         False  \n",
       "117532          False          False         False  \n",
       "117533          False          False         False  \n",
       "117534          False          False         False  \n",
       "117535          False          False         False  \n",
       "\n",
       "[117536 rows x 53 columns]"
      ]
     },
     "execution_count": 317,
     "metadata": {},
     "output_type": "execute_result"
    }
   ],
   "source": [
    "# ##Read in and load road safet data- Accidents  dataset for a preview of what the data looks like\n",
    "# accident_df = pd.read_csv('Road Safety Data - Accidents 2019.csv')\n",
    "# casualties_df = pd.read_csv('Road Safety Data - Casualties 2019.csv')\n",
    "# vehicles_df = pd.read_csv('Road Safety Data- Vehicles 2019.csv')\n",
    "\n",
    "accident_df"
   ]
  },
  {
   "cell_type": "code",
   "execution_count": 318,
   "id": "0f53a0e1",
   "metadata": {},
   "outputs": [
    {
     "data": {
      "text/plain": [
       "array(['Monday', 'Tuesday', 'Wednesday', 'Thursday', 'Friday', 'Saturday',\n",
       "       'Sunday'], dtype=object)"
      ]
     },
     "execution_count": 318,
     "metadata": {},
     "output_type": "execute_result"
    }
   ],
   "source": [
    "accident_df['Week_Day'].unique()"
   ]
  },
  {
   "cell_type": "code",
   "execution_count": 319,
   "id": "d319b332",
   "metadata": {},
   "outputs": [
    {
     "data": {
      "text/plain": [
       "0        2022-04-29 17:50:00\n",
       "1        2022-04-29 21:45:00\n",
       "2        2022-04-29 01:50:00\n",
       "3        2022-04-29 01:20:00\n",
       "4        2022-04-29 00:40:00\n",
       "                 ...        \n",
       "117531   2022-04-29 01:00:00\n",
       "117532   2022-04-29 08:46:00\n",
       "117533   2022-04-29 15:30:00\n",
       "117534   2022-04-29 14:10:00\n",
       "117535   2022-04-29 12:45:00\n",
       "Name: Time, Length: 117536, dtype: datetime64[ns]"
      ]
     },
     "execution_count": 319,
     "metadata": {},
     "output_type": "execute_result"
    }
   ],
   "source": [
    "accident_df[\"Time\"]"
   ]
  },
  {
   "cell_type": "code",
   "execution_count": 320,
   "id": "c1cf6233",
   "metadata": {},
   "outputs": [
    {
     "data": {
      "text/plain": [
       "0         17.833333\n",
       "1         21.750000\n",
       "2          1.833333\n",
       "3          1.333333\n",
       "4          0.666667\n",
       "            ...    \n",
       "117531     1.000000\n",
       "117532     8.766667\n",
       "117533    15.500000\n",
       "117534    14.166667\n",
       "117535    12.750000\n",
       "Name: decimal_time, Length: 117536, dtype: float64"
      ]
     },
     "execution_count": 320,
     "metadata": {},
     "output_type": "execute_result"
    }
   ],
   "source": [
    "accident_df[\"decimal_time\"]"
   ]
  },
  {
   "cell_type": "code",
   "execution_count": 321,
   "id": "4ef435ff",
   "metadata": {},
   "outputs": [
    {
     "data": {
      "text/plain": [
       "0        2022-04-29 17:50:00\n",
       "1        2022-04-29 21:45:00\n",
       "2        2022-04-29 01:50:00\n",
       "3        2022-04-29 01:20:00\n",
       "4        2022-04-29 00:40:00\n",
       "                 ...        \n",
       "117531   2022-04-29 01:00:00\n",
       "117532   2022-04-29 08:46:00\n",
       "117533   2022-04-29 15:30:00\n",
       "117534   2022-04-29 14:10:00\n",
       "117535   2022-04-29 12:45:00\n",
       "Name: converted_time, Length: 117536, dtype: datetime64[ns]"
      ]
     },
     "execution_count": 321,
     "metadata": {},
     "output_type": "execute_result"
    }
   ],
   "source": [
    "accident_df[\"converted_time\"]"
   ]
  },
  {
   "cell_type": "markdown",
   "id": "09635306",
   "metadata": {},
   "source": [
    "##### HOUR OF THE DAY"
   ]
  },
  {
   "cell_type": "code",
   "execution_count": 322,
   "id": "70b45d60",
   "metadata": {},
   "outputs": [
    {
     "data": {
      "text/plain": [
       "<Figure size 720x864 with 0 Axes>"
      ]
     },
     "metadata": {},
     "output_type": "display_data"
    },
    {
     "data": {
      "image/png": "[encoded data removed]",
      "text/plain": [
       "<Figure size 360x360 with 1 Axes>"
      ]
     },
     "metadata": {},
     "output_type": "display_data"
    }
   ],
   "source": [
    "### Hour of the day \n",
    "%matplotlib inline\n",
    "sns.set_style('darkgrid')\n",
    "plt.figure(figsize = (10,12))\n",
    "sns.displot(data=accident_df,x=accident_df[\"decimal_time\"],kde=True, bins = 24)\n",
    "plt.xlabel(\"Time of the Day\")\n",
    "plt.ylabel(\"Accident Count\")\n",
    "plt.show()\n"
   ]
  },
  {
   "cell_type": "code",
   "execution_count": 323,
   "id": "fc407267",
   "metadata": {},
   "outputs": [
    {
     "data": {
      "text/plain": [
       "Text(0, 0.5, 'Accident Count')"
      ]
     },
     "execution_count": 323,
     "metadata": {},
     "output_type": "execute_result"
    },
    {
     "data": {
      "image/png": "[encoded data removed]",
      "text/plain": [
       "<Figure size 576x504 with 1 Axes>"
      ]
     },
     "metadata": {},
     "output_type": "display_data"
    }
   ],
   "source": [
    "#Accident by specific hour of the day\n",
    "hours = pd.DataFrame(accident_df[\"Time\"].astype(\"datetime64\"))\n",
    "hours = pd.DataFrame(hours.Time.dt.strftime('%H').sort_values(),columns=[\"Time\"])\n",
    "plt.figure(figsize=(8,7))\n",
    "sns.countplot(data=hours,x=\"Time\")\n",
    "plt.title(\"Accidents by Hour\")\n",
    "plt.xlabel(\"Hours\")\n",
    "plt.ylabel(\"Accident Count\")"
   ]
  },
  {
   "cell_type": "markdown",
   "id": "42ef180b",
   "metadata": {},
   "source": [
    "###### Day of the week"
   ]
  },
  {
   "cell_type": "code",
   "execution_count": 324,
   "id": "c8e65c94",
   "metadata": {},
   "outputs": [
    {
     "data": {
      "image/png": "[encoded data removed]",
      "text/plain": [
       "<Figure size 360x360 with 1 Axes>"
      ]
     },
     "metadata": {},
     "output_type": "display_data"
    },
    {
     "data": {
      "text/plain": [
       "6    19056\n",
       "5    17973\n",
       "4    17775\n",
       "3    17598\n",
       "2    16643\n",
       "7    15556\n",
       "1    12935\n",
       "Name: Day_of_Week, dtype: int64"
      ]
     },
     "execution_count": 324,
     "metadata": {},
     "output_type": "execute_result"
    }
   ],
   "source": [
    "%matplotlib inline\n",
    "sns.set_style('darkgrid')\n",
    "sns.displot(data=accident_df,x=accident_df[\"Week_Day\"], bins = 7)\n",
    "plt.xlabel(\"Day of the Week\")\n",
    "plt.ylabel(\"Accident Count\")\n",
    "plt.xticks(rotation=90)\n",
    "plt.show()\n",
    "days = accident_df['Day_of_Week'].value_counts()\n",
    "days"
   ]
  },
  {
   "cell_type": "markdown",
   "id": "a14192b6",
   "metadata": {},
   "source": [
    "\n",
    "\n",
    "### QUESTION B - FOR MOTORBIKES, ARE THERE SIGNIFICANT HOURS OF THE DAY, AND DAYS OF THE WEEK ON WHICH ACCIDENTS OCCUR?"
   ]
  },
  {
   "cell_type": "code",
   "execution_count": 326,
   "id": "12f4011e",
   "metadata": {},
   "outputs": [
    {
     "data": {
      "text/html": [
       "<div>\n",
       "<style scoped>\n",
       "    .dataframe tbody tr th:only-of-type {\n",
       "        vertical-align: middle;\n",
       "    }\n",
       "\n",
       "    .dataframe tbody tr th {\n",
       "        vertical-align: top;\n",
       "    }\n",
       "\n",
       "    .dataframe thead th {\n",
       "        text-align: right;\n",
       "    }\n",
       "</style>\n",
       "<table border=\"1\" class=\"dataframe\">\n",
       "  <thead>\n",
       "    <tr style=\"text-align: right;\">\n",
       "      <th></th>\n",
       "      <th>Accident_Index</th>\n",
       "      <th>Vehicle_Reference</th>\n",
       "      <th>Vehicle_Type</th>\n",
       "      <th>Towing_and_Articulation</th>\n",
       "      <th>Vehicle_Manoeuvre</th>\n",
       "      <th>Vehicle_Location-Restricted_Lane</th>\n",
       "      <th>Junction_Location</th>\n",
       "      <th>Skidding_and_Overturning</th>\n",
       "      <th>Hit_Object_in_Carriageway</th>\n",
       "      <th>Vehicle_Leaving_Carriageway</th>\n",
       "      <th>...</th>\n",
       "      <th>Age_of_Driver</th>\n",
       "      <th>Age_Band_of_Driver</th>\n",
       "      <th>Engine_Capacity_(CC)</th>\n",
       "      <th>Propulsion_Code</th>\n",
       "      <th>Age_of_Vehicle</th>\n",
       "      <th>Driver_IMD_Decile</th>\n",
       "      <th>Driver_Home_Area_Type</th>\n",
       "      <th>Vehicle_IMD_Decile</th>\n",
       "      <th>Age_band</th>\n",
       "      <th>journey_purpose</th>\n",
       "    </tr>\n",
       "  </thead>\n",
       "  <tbody>\n",
       "    <tr>\n",
       "      <th>0</th>\n",
       "      <td>2019010128300</td>\n",
       "      <td>1</td>\n",
       "      <td>9</td>\n",
       "      <td>0</td>\n",
       "      <td>-1</td>\n",
       "      <td>-1</td>\n",
       "      <td>-1</td>\n",
       "      <td>-1</td>\n",
       "      <td>-1</td>\n",
       "      <td>-1</td>\n",
       "      <td>...</td>\n",
       "      <td>58</td>\n",
       "      <td>9</td>\n",
       "      <td>-1</td>\n",
       "      <td>-1</td>\n",
       "      <td>-1</td>\n",
       "      <td>2</td>\n",
       "      <td>1</td>\n",
       "      <td>2</td>\n",
       "      <td>56-65</td>\n",
       "      <td>Not known</td>\n",
       "    </tr>\n",
       "    <tr>\n",
       "      <th>1</th>\n",
       "      <td>2019010128300</td>\n",
       "      <td>2</td>\n",
       "      <td>9</td>\n",
       "      <td>0</td>\n",
       "      <td>-1</td>\n",
       "      <td>-1</td>\n",
       "      <td>-1</td>\n",
       "      <td>-1</td>\n",
       "      <td>-1</td>\n",
       "      <td>-1</td>\n",
       "      <td>...</td>\n",
       "      <td>-1</td>\n",
       "      <td>-1</td>\n",
       "      <td>-1</td>\n",
       "      <td>-1</td>\n",
       "      <td>-1</td>\n",
       "      <td>2</td>\n",
       "      <td>1</td>\n",
       "      <td>2</td>\n",
       "      <td>Out of range</td>\n",
       "      <td>Not known</td>\n",
       "    </tr>\n",
       "    <tr>\n",
       "      <th>2</th>\n",
       "      <td>2019010152270</td>\n",
       "      <td>1</td>\n",
       "      <td>9</td>\n",
       "      <td>0</td>\n",
       "      <td>18</td>\n",
       "      <td>-1</td>\n",
       "      <td>0</td>\n",
       "      <td>-1</td>\n",
       "      <td>-1</td>\n",
       "      <td>-1</td>\n",
       "      <td>...</td>\n",
       "      <td>24</td>\n",
       "      <td>5</td>\n",
       "      <td>-1</td>\n",
       "      <td>-1</td>\n",
       "      <td>-1</td>\n",
       "      <td>3</td>\n",
       "      <td>1</td>\n",
       "      <td>3</td>\n",
       "      <td>21-25</td>\n",
       "      <td>Not known</td>\n",
       "    </tr>\n",
       "    <tr>\n",
       "      <th>3</th>\n",
       "      <td>2019010152270</td>\n",
       "      <td>2</td>\n",
       "      <td>9</td>\n",
       "      <td>0</td>\n",
       "      <td>18</td>\n",
       "      <td>-1</td>\n",
       "      <td>0</td>\n",
       "      <td>-1</td>\n",
       "      <td>-1</td>\n",
       "      <td>-1</td>\n",
       "      <td>...</td>\n",
       "      <td>-1</td>\n",
       "      <td>-1</td>\n",
       "      <td>-1</td>\n",
       "      <td>-1</td>\n",
       "      <td>-1</td>\n",
       "      <td>6</td>\n",
       "      <td>1</td>\n",
       "      <td>6</td>\n",
       "      <td>Out of range</td>\n",
       "      <td>Not known</td>\n",
       "    </tr>\n",
       "    <tr>\n",
       "      <th>4</th>\n",
       "      <td>2019010155191</td>\n",
       "      <td>1</td>\n",
       "      <td>9</td>\n",
       "      <td>0</td>\n",
       "      <td>3</td>\n",
       "      <td>0</td>\n",
       "      <td>1</td>\n",
       "      <td>0</td>\n",
       "      <td>0</td>\n",
       "      <td>0</td>\n",
       "      <td>...</td>\n",
       "      <td>45</td>\n",
       "      <td>7</td>\n",
       "      <td>-1</td>\n",
       "      <td>-1</td>\n",
       "      <td>-1</td>\n",
       "      <td>4</td>\n",
       "      <td>1</td>\n",
       "      <td>4</td>\n",
       "      <td>36-45</td>\n",
       "      <td>Not known</td>\n",
       "    </tr>\n",
       "    <tr>\n",
       "      <th>...</th>\n",
       "      <td>...</td>\n",
       "      <td>...</td>\n",
       "      <td>...</td>\n",
       "      <td>...</td>\n",
       "      <td>...</td>\n",
       "      <td>...</td>\n",
       "      <td>...</td>\n",
       "      <td>...</td>\n",
       "      <td>...</td>\n",
       "      <td>...</td>\n",
       "      <td>...</td>\n",
       "      <td>...</td>\n",
       "      <td>...</td>\n",
       "      <td>...</td>\n",
       "      <td>...</td>\n",
       "      <td>...</td>\n",
       "      <td>...</td>\n",
       "      <td>...</td>\n",
       "      <td>...</td>\n",
       "      <td>...</td>\n",
       "      <td>...</td>\n",
       "    </tr>\n",
       "    <tr>\n",
       "      <th>216376</th>\n",
       "      <td>2019984107019</td>\n",
       "      <td>4</td>\n",
       "      <td>19</td>\n",
       "      <td>0</td>\n",
       "      <td>18</td>\n",
       "      <td>0</td>\n",
       "      <td>0</td>\n",
       "      <td>0</td>\n",
       "      <td>0</td>\n",
       "      <td>0</td>\n",
       "      <td>...</td>\n",
       "      <td>20</td>\n",
       "      <td>4</td>\n",
       "      <td>2198</td>\n",
       "      <td>2</td>\n",
       "      <td>4</td>\n",
       "      <td>5</td>\n",
       "      <td>3</td>\n",
       "      <td>5</td>\n",
       "      <td>16-20</td>\n",
       "      <td>Journey part of work</td>\n",
       "    </tr>\n",
       "    <tr>\n",
       "      <th>216377</th>\n",
       "      <td>2019984107219</td>\n",
       "      <td>1</td>\n",
       "      <td>9</td>\n",
       "      <td>0</td>\n",
       "      <td>18</td>\n",
       "      <td>0</td>\n",
       "      <td>1</td>\n",
       "      <td>0</td>\n",
       "      <td>0</td>\n",
       "      <td>0</td>\n",
       "      <td>...</td>\n",
       "      <td>33</td>\n",
       "      <td>6</td>\n",
       "      <td>1997</td>\n",
       "      <td>2</td>\n",
       "      <td>12</td>\n",
       "      <td>3</td>\n",
       "      <td>2</td>\n",
       "      <td>3</td>\n",
       "      <td>26-35</td>\n",
       "      <td>Not known</td>\n",
       "    </tr>\n",
       "    <tr>\n",
       "      <th>216378</th>\n",
       "      <td>2019984107219</td>\n",
       "      <td>2</td>\n",
       "      <td>9</td>\n",
       "      <td>0</td>\n",
       "      <td>18</td>\n",
       "      <td>0</td>\n",
       "      <td>1</td>\n",
       "      <td>0</td>\n",
       "      <td>0</td>\n",
       "      <td>0</td>\n",
       "      <td>...</td>\n",
       "      <td>61</td>\n",
       "      <td>9</td>\n",
       "      <td>2967</td>\n",
       "      <td>2</td>\n",
       "      <td>5</td>\n",
       "      <td>7</td>\n",
       "      <td>3</td>\n",
       "      <td>7</td>\n",
       "      <td>56-65</td>\n",
       "      <td>Not known</td>\n",
       "    </tr>\n",
       "    <tr>\n",
       "      <th>216379</th>\n",
       "      <td>2019984107419</td>\n",
       "      <td>1</td>\n",
       "      <td>9</td>\n",
       "      <td>0</td>\n",
       "      <td>7</td>\n",
       "      <td>0</td>\n",
       "      <td>6</td>\n",
       "      <td>0</td>\n",
       "      <td>0</td>\n",
       "      <td>3</td>\n",
       "      <td>...</td>\n",
       "      <td>78</td>\n",
       "      <td>11</td>\n",
       "      <td>1597</td>\n",
       "      <td>2</td>\n",
       "      <td>6</td>\n",
       "      <td>8</td>\n",
       "      <td>3</td>\n",
       "      <td>8</td>\n",
       "      <td>Over 75</td>\n",
       "      <td>Other</td>\n",
       "    </tr>\n",
       "    <tr>\n",
       "      <th>216380</th>\n",
       "      <td>201998QC01004</td>\n",
       "      <td>1</td>\n",
       "      <td>5</td>\n",
       "      <td>0</td>\n",
       "      <td>16</td>\n",
       "      <td>0</td>\n",
       "      <td>0</td>\n",
       "      <td>0</td>\n",
       "      <td>0</td>\n",
       "      <td>1</td>\n",
       "      <td>...</td>\n",
       "      <td>55</td>\n",
       "      <td>8</td>\n",
       "      <td>599</td>\n",
       "      <td>1</td>\n",
       "      <td>20</td>\n",
       "      <td>4</td>\n",
       "      <td>1</td>\n",
       "      <td>4</td>\n",
       "      <td>46-55</td>\n",
       "      <td>Not known</td>\n",
       "    </tr>\n",
       "  </tbody>\n",
       "</table>\n",
       "<p>216381 rows × 25 columns</p>\n",
       "</div>"
      ],
      "text/plain": [
       "       Accident_Index  Vehicle_Reference  Vehicle_Type  \\\n",
       "0       2019010128300                  1             9   \n",
       "1       2019010128300                  2             9   \n",
       "2       2019010152270                  1             9   \n",
       "3       2019010152270                  2             9   \n",
       "4       2019010155191                  1             9   \n",
       "...               ...                ...           ...   \n",
       "216376  2019984107019                  4            19   \n",
       "216377  2019984107219                  1             9   \n",
       "216378  2019984107219                  2             9   \n",
       "216379  2019984107419                  1             9   \n",
       "216380  201998QC01004                  1             5   \n",
       "\n",
       "        Towing_and_Articulation  Vehicle_Manoeuvre  \\\n",
       "0                             0                 -1   \n",
       "1                             0                 -1   \n",
       "2                             0                 18   \n",
       "3                             0                 18   \n",
       "4                             0                  3   \n",
       "...                         ...                ...   \n",
       "216376                        0                 18   \n",
       "216377                        0                 18   \n",
       "216378                        0                 18   \n",
       "216379                        0                  7   \n",
       "216380                        0                 16   \n",
       "\n",
       "        Vehicle_Location-Restricted_Lane  Junction_Location  \\\n",
       "0                                     -1                 -1   \n",
       "1                                     -1                 -1   \n",
       "2                                     -1                  0   \n",
       "3                                     -1                  0   \n",
       "4                                      0                  1   \n",
       "...                                  ...                ...   \n",
       "216376                                 0                  0   \n",
       "216377                                 0                  1   \n",
       "216378                                 0                  1   \n",
       "216379                                 0                  6   \n",
       "216380                                 0                  0   \n",
       "\n",
       "        Skidding_and_Overturning  Hit_Object_in_Carriageway  \\\n",
       "0                             -1                         -1   \n",
       "1                             -1                         -1   \n",
       "2                             -1                         -1   \n",
       "3                             -1                         -1   \n",
       "4                              0                          0   \n",
       "...                          ...                        ...   \n",
       "216376                         0                          0   \n",
       "216377                         0                          0   \n",
       "216378                         0                          0   \n",
       "216379                         0                          0   \n",
       "216380                         0                          0   \n",
       "\n",
       "        Vehicle_Leaving_Carriageway  ...  Age_of_Driver  Age_Band_of_Driver  \\\n",
       "0                                -1  ...             58                   9   \n",
       "1                                -1  ...             -1                  -1   \n",
       "2                                -1  ...             24                   5   \n",
       "3                                -1  ...             -1                  -1   \n",
       "4                                 0  ...             45                   7   \n",
       "...                             ...  ...            ...                 ...   \n",
       "216376                            0  ...             20                   4   \n",
       "216377                            0  ...             33                   6   \n",
       "216378                            0  ...             61                   9   \n",
       "216379                            3  ...             78                  11   \n",
       "216380                            1  ...             55                   8   \n",
       "\n",
       "        Engine_Capacity_(CC)  Propulsion_Code  Age_of_Vehicle  \\\n",
       "0                         -1               -1              -1   \n",
       "1                         -1               -1              -1   \n",
       "2                         -1               -1              -1   \n",
       "3                         -1               -1              -1   \n",
       "4                         -1               -1              -1   \n",
       "...                      ...              ...             ...   \n",
       "216376                  2198                2               4   \n",
       "216377                  1997                2              12   \n",
       "216378                  2967                2               5   \n",
       "216379                  1597                2               6   \n",
       "216380                   599                1              20   \n",
       "\n",
       "        Driver_IMD_Decile  Driver_Home_Area_Type  Vehicle_IMD_Decile  \\\n",
       "0                       2                      1                   2   \n",
       "1                       2                      1                   2   \n",
       "2                       3                      1                   3   \n",
       "3                       6                      1                   6   \n",
       "4                       4                      1                   4   \n",
       "...                   ...                    ...                 ...   \n",
       "216376                  5                      3                   5   \n",
       "216377                  3                      2                   3   \n",
       "216378                  7                      3                   7   \n",
       "216379                  8                      3                   8   \n",
       "216380                  4                      1                   4   \n",
       "\n",
       "            Age_band       journey_purpose  \n",
       "0              56-65             Not known  \n",
       "1       Out of range             Not known  \n",
       "2              21-25             Not known  \n",
       "3       Out of range             Not known  \n",
       "4              36-45             Not known  \n",
       "...              ...                   ...  \n",
       "216376         16-20  Journey part of work  \n",
       "216377         26-35             Not known  \n",
       "216378         56-65             Not known  \n",
       "216379       Over 75                 Other  \n",
       "216380         46-55             Not known  \n",
       "\n",
       "[216381 rows x 25 columns]"
      ]
     },
     "execution_count": 326,
     "metadata": {},
     "output_type": "execute_result"
    }
   ],
   "source": [
    "#vehicle dataframe overview\n",
    "vehicles_df"
   ]
  },
  {
   "cell_type": "markdown",
   "id": "2132c24b",
   "metadata": {},
   "source": [
    "#### Motorbike accident by hour of the day"
   ]
  },
  {
   "cell_type": "code",
   "execution_count": 327,
   "id": "47c91e99",
   "metadata": {},
   "outputs": [],
   "source": [
    "#Filter through the vehicle types for vehicles that classify as motorbikes\n",
    "motor_bike1=vehicles_df[(vehicles_df[\"Vehicle_Type\"]==2)]\n",
    "motor_bike2=vehicles_df[(vehicles_df[\"Vehicle_Type\"]==3)]\n",
    "motor_bike3=vehicles_df[(vehicles_df[\"Vehicle_Type\"]==4)]\n",
    "motor_bike4=vehicles_df[(vehicles_df[\"Vehicle_Type\"]==5)]\n",
    "motor_bike5=vehicles_df[(vehicles_df[\"Vehicle_Type\"]==23)]\n",
    "motor_bike6=vehicles_df[(vehicles_df[\"Vehicle_Type\"]==97)]\n",
    "#total motorbikes\n",
    "motor_bikes = pd.concat([motor_bike1,motor_bike2,motor_bike3,motor_bike4,motor_bike5,motor_bike6], ignore_index= True)\n",
    "\n",
    "#merge the accident_df with motor_bikes to get a new dataframe\n",
    "motor_bikes_df = accident_df.merge(motor_bikes, on=['Accident_Index'], how='inner')\n",
    "\n",
    "#All motorbike dataframe\n",
    "motor_bikes\n",
    "motor_bikes_df\n",
    "motor_bikes_df['Week_Day'] = motor_bikes_df['Day_of_Week'].map({1: 'Sunday', 2:'Monday', 3: 'Tuesday', 4: 'Wednesday', 5: 'Thursday', 6: 'Friday', 7: 'Saturday'})"
   ]
  },
  {
   "cell_type": "markdown",
   "id": "d79a8834",
   "metadata": {},
   "source": [
    "###### Motorbike accident by hour of the day"
   ]
  },
  {
   "cell_type": "code",
   "execution_count": 328,
   "id": "ebb48411",
   "metadata": {},
   "outputs": [
    {
     "data": {
      "image/png": "[encoded data removed]",
      "text/plain": [
       "<Figure size 360x360 with 1 Axes>"
      ]
     },
     "metadata": {},
     "output_type": "display_data"
    }
   ],
   "source": [
    "#histogram showing accidents for motorbikes by hour of the day\n",
    "%matplotlib inline\n",
    "sns.set_style('darkgrid')\n",
    "sns.displot(data=motor_bikes_df,x=\"decimal_time\",kde=True, bins = 24)\n",
    "plt.xlabel(\"Time of the Day\")\n",
    "plt.ylabel(\"Accident Count\")\n",
    "plt.show()"
   ]
  },
  {
   "cell_type": "markdown",
   "id": "f2eb302a",
   "metadata": {},
   "source": [
    "##### Motorbike accident by specific hour of the day"
   ]
  },
  {
   "cell_type": "code",
   "execution_count": 329,
   "id": "c4c18056",
   "metadata": {},
   "outputs": [
    {
     "data": {
      "text/plain": [
       "Text(0, 0.5, 'Accident Count')"
      ]
     },
     "execution_count": 329,
     "metadata": {},
     "output_type": "execute_result"
    },
    {
     "data": {
      "image/png": "[encoded data removed]",
      "text/plain": [
       "<Figure size 576x504 with 1 Axes>"
      ]
     },
     "metadata": {},
     "output_type": "display_data"
    }
   ],
   "source": [
    "#Motorbike accident by specific hour of the day\n",
    "hours = pd.DataFrame(motor_bikes_df[\"Time\"].astype(\"datetime64\"))\n",
    "hours = pd.DataFrame(hours.Time.dt.strftime('%H').sort_values(),columns=[\"Time\"])\n",
    "plt.figure(figsize=(8,7))\n",
    "sns.countplot(data=hours,x=\"Time\")\n",
    "plt.title(\"Accidents by Hour\")\n",
    "plt.xlabel(\"Hours\")\n",
    "plt.ylabel(\"Accident Count\")"
   ]
  },
  {
   "cell_type": "markdown",
   "id": "48a9a376",
   "metadata": {},
   "source": [
    "#### Motorbike accident by days of the week"
   ]
  },
  {
   "cell_type": "code",
   "execution_count": 330,
   "id": "49bed761",
   "metadata": {},
   "outputs": [
    {
     "data": {
      "image/png": "[encoded data removed]",
      "text/plain": [
       "<Figure size 360x360 with 1 Axes>"
      ]
     },
     "metadata": {},
     "output_type": "display_data"
    }
   ],
   "source": [
    "#Accident for motorbikes for days of the week\n",
    "%matplotlib inline\n",
    "sns.set_style('darkgrid')\n",
    "sns.displot(data=motor_bikes_df,x=\"Week_Day\", bins = 7)\n",
    "plt.xlabel(\"Day of the Week\")\n",
    "plt.ylabel(\"Accident Count\")\n",
    "plt.xticks(rotation=90)\n",
    "plt.show()"
   ]
  },
  {
   "cell_type": "code",
   "execution_count": 331,
   "id": "69cb271a",
   "metadata": {},
   "outputs": [],
   "source": [
    "# total_days = motor_bikes_df['Day_of_Week'].sum()\n",
    "# sun_freq = (motor_bikes_df['Day_of_Week'] == 1).sum()\n",
    "# mon_freq = (motor_bikes_df['Day_of_Week'] == 2).sum()\n",
    "# tue_freq = (motor_bikes_df['Day_of_Week'] == 3).sum()\n",
    "# wed_freq = (motor_bikes_df['Day_of_Week'] == 4).sum()\n",
    "# thur_freq = (motor_bikes_df['Day_of_Week'] == 5).sum()\n",
    "# fri_freq = (motor_bikes_df['Day_of_Week'] == 6).sum()\n",
    "# sat_freq = (motor_bikes_df['Day_of_Week'] == 7).sum()"
   ]
  },
  {
   "cell_type": "markdown",
   "id": "8238007b",
   "metadata": {},
   "source": [
    "### QUESTION C - FOR PEDESTRIANS INVOLVED IN ACCIDENTS, ARE THERE SIGNIFICANT HOURS OF THE DAY AND DAYS OF THE WEEK ON WHICH THEY ARE MORE LIKELY TO BE INVOLVED? "
   ]
  },
  {
   "cell_type": "code",
   "execution_count": 332,
   "id": "6205209d",
   "metadata": {},
   "outputs": [
    {
     "data": {
      "text/html": [
       "<div>\n",
       "<style scoped>\n",
       "    .dataframe tbody tr th:only-of-type {\n",
       "        vertical-align: middle;\n",
       "    }\n",
       "\n",
       "    .dataframe tbody tr th {\n",
       "        vertical-align: top;\n",
       "    }\n",
       "\n",
       "    .dataframe thead th {\n",
       "        text-align: right;\n",
       "    }\n",
       "</style>\n",
       "<table border=\"1\" class=\"dataframe\">\n",
       "  <thead>\n",
       "    <tr style=\"text-align: right;\">\n",
       "      <th></th>\n",
       "      <th>Accident_Index</th>\n",
       "      <th>Vehicle_Reference</th>\n",
       "      <th>Casualty_Reference</th>\n",
       "      <th>Casualty_Class</th>\n",
       "      <th>Sex_of_Casualty</th>\n",
       "      <th>Age_of_Casualty</th>\n",
       "      <th>Age_Band_of_Casualty</th>\n",
       "      <th>Casualty_Severity</th>\n",
       "      <th>Pedestrian_Location</th>\n",
       "      <th>Pedestrian_Movement</th>\n",
       "      <th>Car_Passenger</th>\n",
       "      <th>Bus_or_Coach_Passenger</th>\n",
       "      <th>Pedestrian_Road_Maintenance_Worker</th>\n",
       "      <th>Casualty_Type</th>\n",
       "      <th>Casualty_Home_Area_Type</th>\n",
       "      <th>Casualty_IMD_Decile</th>\n",
       "    </tr>\n",
       "  </thead>\n",
       "  <tbody>\n",
       "    <tr>\n",
       "      <th>0</th>\n",
       "      <td>2019010128300</td>\n",
       "      <td>1</td>\n",
       "      <td>1</td>\n",
       "      <td>1</td>\n",
       "      <td>1</td>\n",
       "      <td>58</td>\n",
       "      <td>9</td>\n",
       "      <td>3</td>\n",
       "      <td>0</td>\n",
       "      <td>0</td>\n",
       "      <td>0</td>\n",
       "      <td>0</td>\n",
       "      <td>0</td>\n",
       "      <td>9</td>\n",
       "      <td>1</td>\n",
       "      <td>2</td>\n",
       "    </tr>\n",
       "    <tr>\n",
       "      <th>1</th>\n",
       "      <td>2019010128300</td>\n",
       "      <td>1</td>\n",
       "      <td>2</td>\n",
       "      <td>2</td>\n",
       "      <td>2</td>\n",
       "      <td>-1</td>\n",
       "      <td>-1</td>\n",
       "      <td>3</td>\n",
       "      <td>0</td>\n",
       "      <td>0</td>\n",
       "      <td>1</td>\n",
       "      <td>0</td>\n",
       "      <td>0</td>\n",
       "      <td>9</td>\n",
       "      <td>1</td>\n",
       "      <td>5</td>\n",
       "    </tr>\n",
       "    <tr>\n",
       "      <th>2</th>\n",
       "      <td>2019010128300</td>\n",
       "      <td>1</td>\n",
       "      <td>3</td>\n",
       "      <td>2</td>\n",
       "      <td>2</td>\n",
       "      <td>-1</td>\n",
       "      <td>-1</td>\n",
       "      <td>3</td>\n",
       "      <td>0</td>\n",
       "      <td>0</td>\n",
       "      <td>2</td>\n",
       "      <td>0</td>\n",
       "      <td>0</td>\n",
       "      <td>9</td>\n",
       "      <td>1</td>\n",
       "      <td>5</td>\n",
       "    </tr>\n",
       "    <tr>\n",
       "      <th>3</th>\n",
       "      <td>2019010152270</td>\n",
       "      <td>1</td>\n",
       "      <td>1</td>\n",
       "      <td>1</td>\n",
       "      <td>2</td>\n",
       "      <td>24</td>\n",
       "      <td>5</td>\n",
       "      <td>3</td>\n",
       "      <td>0</td>\n",
       "      <td>0</td>\n",
       "      <td>0</td>\n",
       "      <td>0</td>\n",
       "      <td>0</td>\n",
       "      <td>9</td>\n",
       "      <td>1</td>\n",
       "      <td>3</td>\n",
       "    </tr>\n",
       "    <tr>\n",
       "      <th>4</th>\n",
       "      <td>2019010155191</td>\n",
       "      <td>2</td>\n",
       "      <td>1</td>\n",
       "      <td>2</td>\n",
       "      <td>2</td>\n",
       "      <td>21</td>\n",
       "      <td>5</td>\n",
       "      <td>3</td>\n",
       "      <td>0</td>\n",
       "      <td>0</td>\n",
       "      <td>0</td>\n",
       "      <td>0</td>\n",
       "      <td>0</td>\n",
       "      <td>1</td>\n",
       "      <td>1</td>\n",
       "      <td>1</td>\n",
       "    </tr>\n",
       "    <tr>\n",
       "      <th>...</th>\n",
       "      <td>...</td>\n",
       "      <td>...</td>\n",
       "      <td>...</td>\n",
       "      <td>...</td>\n",
       "      <td>...</td>\n",
       "      <td>...</td>\n",
       "      <td>...</td>\n",
       "      <td>...</td>\n",
       "      <td>...</td>\n",
       "      <td>...</td>\n",
       "      <td>...</td>\n",
       "      <td>...</td>\n",
       "      <td>...</td>\n",
       "      <td>...</td>\n",
       "      <td>...</td>\n",
       "      <td>...</td>\n",
       "    </tr>\n",
       "    <tr>\n",
       "      <th>153153</th>\n",
       "      <td>2019984106919</td>\n",
       "      <td>1</td>\n",
       "      <td>1</td>\n",
       "      <td>1</td>\n",
       "      <td>1</td>\n",
       "      <td>24</td>\n",
       "      <td>5</td>\n",
       "      <td>3</td>\n",
       "      <td>0</td>\n",
       "      <td>0</td>\n",
       "      <td>0</td>\n",
       "      <td>0</td>\n",
       "      <td>0</td>\n",
       "      <td>19</td>\n",
       "      <td>3</td>\n",
       "      <td>6</td>\n",
       "    </tr>\n",
       "    <tr>\n",
       "      <th>153154</th>\n",
       "      <td>2019984107019</td>\n",
       "      <td>1</td>\n",
       "      <td>1</td>\n",
       "      <td>1</td>\n",
       "      <td>1</td>\n",
       "      <td>22</td>\n",
       "      <td>5</td>\n",
       "      <td>3</td>\n",
       "      <td>0</td>\n",
       "      <td>0</td>\n",
       "      <td>0</td>\n",
       "      <td>0</td>\n",
       "      <td>0</td>\n",
       "      <td>19</td>\n",
       "      <td>1</td>\n",
       "      <td>1</td>\n",
       "    </tr>\n",
       "    <tr>\n",
       "      <th>153155</th>\n",
       "      <td>2019984107219</td>\n",
       "      <td>2</td>\n",
       "      <td>1</td>\n",
       "      <td>1</td>\n",
       "      <td>1</td>\n",
       "      <td>61</td>\n",
       "      <td>9</td>\n",
       "      <td>3</td>\n",
       "      <td>0</td>\n",
       "      <td>0</td>\n",
       "      <td>0</td>\n",
       "      <td>0</td>\n",
       "      <td>0</td>\n",
       "      <td>9</td>\n",
       "      <td>3</td>\n",
       "      <td>7</td>\n",
       "    </tr>\n",
       "    <tr>\n",
       "      <th>153156</th>\n",
       "      <td>2019984107419</td>\n",
       "      <td>1</td>\n",
       "      <td>1</td>\n",
       "      <td>3</td>\n",
       "      <td>1</td>\n",
       "      <td>54</td>\n",
       "      <td>8</td>\n",
       "      <td>3</td>\n",
       "      <td>5</td>\n",
       "      <td>3</td>\n",
       "      <td>0</td>\n",
       "      <td>0</td>\n",
       "      <td>0</td>\n",
       "      <td>0</td>\n",
       "      <td>3</td>\n",
       "      <td>8</td>\n",
       "    </tr>\n",
       "    <tr>\n",
       "      <th>153157</th>\n",
       "      <td>201998QC01004</td>\n",
       "      <td>1</td>\n",
       "      <td>1</td>\n",
       "      <td>1</td>\n",
       "      <td>1</td>\n",
       "      <td>55</td>\n",
       "      <td>8</td>\n",
       "      <td>2</td>\n",
       "      <td>0</td>\n",
       "      <td>0</td>\n",
       "      <td>0</td>\n",
       "      <td>0</td>\n",
       "      <td>0</td>\n",
       "      <td>5</td>\n",
       "      <td>1</td>\n",
       "      <td>4</td>\n",
       "    </tr>\n",
       "  </tbody>\n",
       "</table>\n",
       "<p>153158 rows × 16 columns</p>\n",
       "</div>"
      ],
      "text/plain": [
       "       Accident_Index  Vehicle_Reference  Casualty_Reference  Casualty_Class  \\\n",
       "0       2019010128300                  1                   1               1   \n",
       "1       2019010128300                  1                   2               2   \n",
       "2       2019010128300                  1                   3               2   \n",
       "3       2019010152270                  1                   1               1   \n",
       "4       2019010155191                  2                   1               2   \n",
       "...               ...                ...                 ...             ...   \n",
       "153153  2019984106919                  1                   1               1   \n",
       "153154  2019984107019                  1                   1               1   \n",
       "153155  2019984107219                  2                   1               1   \n",
       "153156  2019984107419                  1                   1               3   \n",
       "153157  201998QC01004                  1                   1               1   \n",
       "\n",
       "        Sex_of_Casualty  Age_of_Casualty  Age_Band_of_Casualty  \\\n",
       "0                     1               58                     9   \n",
       "1                     2               -1                    -1   \n",
       "2                     2               -1                    -1   \n",
       "3                     2               24                     5   \n",
       "4                     2               21                     5   \n",
       "...                 ...              ...                   ...   \n",
       "153153                1               24                     5   \n",
       "153154                1               22                     5   \n",
       "153155                1               61                     9   \n",
       "153156                1               54                     8   \n",
       "153157                1               55                     8   \n",
       "\n",
       "        Casualty_Severity  Pedestrian_Location  Pedestrian_Movement  \\\n",
       "0                       3                    0                    0   \n",
       "1                       3                    0                    0   \n",
       "2                       3                    0                    0   \n",
       "3                       3                    0                    0   \n",
       "4                       3                    0                    0   \n",
       "...                   ...                  ...                  ...   \n",
       "153153                  3                    0                    0   \n",
       "153154                  3                    0                    0   \n",
       "153155                  3                    0                    0   \n",
       "153156                  3                    5                    3   \n",
       "153157                  2                    0                    0   \n",
       "\n",
       "        Car_Passenger  Bus_or_Coach_Passenger  \\\n",
       "0                   0                       0   \n",
       "1                   1                       0   \n",
       "2                   2                       0   \n",
       "3                   0                       0   \n",
       "4                   0                       0   \n",
       "...               ...                     ...   \n",
       "153153              0                       0   \n",
       "153154              0                       0   \n",
       "153155              0                       0   \n",
       "153156              0                       0   \n",
       "153157              0                       0   \n",
       "\n",
       "        Pedestrian_Road_Maintenance_Worker  Casualty_Type  \\\n",
       "0                                        0              9   \n",
       "1                                        0              9   \n",
       "2                                        0              9   \n",
       "3                                        0              9   \n",
       "4                                        0              1   \n",
       "...                                    ...            ...   \n",
       "153153                                   0             19   \n",
       "153154                                   0             19   \n",
       "153155                                   0              9   \n",
       "153156                                   0              0   \n",
       "153157                                   0              5   \n",
       "\n",
       "        Casualty_Home_Area_Type  Casualty_IMD_Decile  \n",
       "0                             1                    2  \n",
       "1                             1                    5  \n",
       "2                             1                    5  \n",
       "3                             1                    3  \n",
       "4                             1                    1  \n",
       "...                         ...                  ...  \n",
       "153153                        3                    6  \n",
       "153154                        1                    1  \n",
       "153155                        3                    7  \n",
       "153156                        3                    8  \n",
       "153157                        1                    4  \n",
       "\n",
       "[153158 rows x 16 columns]"
      ]
     },
     "execution_count": 332,
     "metadata": {},
     "output_type": "execute_result"
    }
   ],
   "source": [
    "#casualties dataframe overview\n",
    "casualties_df"
   ]
  },
  {
   "cell_type": "code",
   "execution_count": 333,
   "id": "d816570f",
   "metadata": {},
   "outputs": [
    {
     "data": {
      "text/html": [
       "<div>\n",
       "<style scoped>\n",
       "    .dataframe tbody tr th:only-of-type {\n",
       "        vertical-align: middle;\n",
       "    }\n",
       "\n",
       "    .dataframe tbody tr th {\n",
       "        vertical-align: top;\n",
       "    }\n",
       "\n",
       "    .dataframe thead th {\n",
       "        text-align: right;\n",
       "    }\n",
       "</style>\n",
       "<table border=\"1\" class=\"dataframe\">\n",
       "  <thead>\n",
       "    <tr style=\"text-align: right;\">\n",
       "      <th></th>\n",
       "      <th>Accident_Index</th>\n",
       "      <th>Vehicle_Reference</th>\n",
       "      <th>Casualty_Reference</th>\n",
       "      <th>Casualty_Class</th>\n",
       "      <th>Sex_of_Casualty</th>\n",
       "      <th>Age_of_Casualty</th>\n",
       "      <th>Age_Band_of_Casualty</th>\n",
       "      <th>Casualty_Severity</th>\n",
       "      <th>Pedestrian_Location</th>\n",
       "      <th>Pedestrian_Movement</th>\n",
       "      <th>Car_Passenger</th>\n",
       "      <th>Bus_or_Coach_Passenger</th>\n",
       "      <th>Pedestrian_Road_Maintenance_Worker</th>\n",
       "      <th>Casualty_Type</th>\n",
       "      <th>Casualty_Home_Area_Type</th>\n",
       "      <th>Casualty_IMD_Decile</th>\n",
       "    </tr>\n",
       "  </thead>\n",
       "  <tbody>\n",
       "    <tr>\n",
       "      <th>5</th>\n",
       "      <td>2019010155192</td>\n",
       "      <td>1</td>\n",
       "      <td>1</td>\n",
       "      <td>3</td>\n",
       "      <td>1</td>\n",
       "      <td>68</td>\n",
       "      <td>10</td>\n",
       "      <td>2</td>\n",
       "      <td>5</td>\n",
       "      <td>4</td>\n",
       "      <td>0</td>\n",
       "      <td>0</td>\n",
       "      <td>0</td>\n",
       "      <td>0</td>\n",
       "      <td>1</td>\n",
       "      <td>4</td>\n",
       "    </tr>\n",
       "    <tr>\n",
       "      <th>11</th>\n",
       "      <td>2019010155196</td>\n",
       "      <td>1</td>\n",
       "      <td>1</td>\n",
       "      <td>3</td>\n",
       "      <td>1</td>\n",
       "      <td>40</td>\n",
       "      <td>7</td>\n",
       "      <td>3</td>\n",
       "      <td>1</td>\n",
       "      <td>3</td>\n",
       "      <td>0</td>\n",
       "      <td>0</td>\n",
       "      <td>0</td>\n",
       "      <td>0</td>\n",
       "      <td>1</td>\n",
       "      <td>4</td>\n",
       "    </tr>\n",
       "    <tr>\n",
       "      <th>19</th>\n",
       "      <td>2019010155209</td>\n",
       "      <td>1</td>\n",
       "      <td>1</td>\n",
       "      <td>3</td>\n",
       "      <td>1</td>\n",
       "      <td>23</td>\n",
       "      <td>5</td>\n",
       "      <td>3</td>\n",
       "      <td>1</td>\n",
       "      <td>1</td>\n",
       "      <td>0</td>\n",
       "      <td>0</td>\n",
       "      <td>0</td>\n",
       "      <td>0</td>\n",
       "      <td>1</td>\n",
       "      <td>8</td>\n",
       "    </tr>\n",
       "    <tr>\n",
       "      <th>20</th>\n",
       "      <td>2019010155210</td>\n",
       "      <td>1</td>\n",
       "      <td>1</td>\n",
       "      <td>3</td>\n",
       "      <td>1</td>\n",
       "      <td>24</td>\n",
       "      <td>5</td>\n",
       "      <td>1</td>\n",
       "      <td>5</td>\n",
       "      <td>1</td>\n",
       "      <td>0</td>\n",
       "      <td>0</td>\n",
       "      <td>0</td>\n",
       "      <td>0</td>\n",
       "      <td>1</td>\n",
       "      <td>10</td>\n",
       "    </tr>\n",
       "    <tr>\n",
       "      <th>21</th>\n",
       "      <td>2019010155216</td>\n",
       "      <td>1</td>\n",
       "      <td>1</td>\n",
       "      <td>3</td>\n",
       "      <td>1</td>\n",
       "      <td>38</td>\n",
       "      <td>7</td>\n",
       "      <td>3</td>\n",
       "      <td>5</td>\n",
       "      <td>3</td>\n",
       "      <td>0</td>\n",
       "      <td>0</td>\n",
       "      <td>0</td>\n",
       "      <td>0</td>\n",
       "      <td>1</td>\n",
       "      <td>4</td>\n",
       "    </tr>\n",
       "    <tr>\n",
       "      <th>...</th>\n",
       "      <td>...</td>\n",
       "      <td>...</td>\n",
       "      <td>...</td>\n",
       "      <td>...</td>\n",
       "      <td>...</td>\n",
       "      <td>...</td>\n",
       "      <td>...</td>\n",
       "      <td>...</td>\n",
       "      <td>...</td>\n",
       "      <td>...</td>\n",
       "      <td>...</td>\n",
       "      <td>...</td>\n",
       "      <td>...</td>\n",
       "      <td>...</td>\n",
       "      <td>...</td>\n",
       "      <td>...</td>\n",
       "    </tr>\n",
       "    <tr>\n",
       "      <th>153108</th>\n",
       "      <td>2019983114119</td>\n",
       "      <td>1</td>\n",
       "      <td>1</td>\n",
       "      <td>3</td>\n",
       "      <td>1</td>\n",
       "      <td>64</td>\n",
       "      <td>9</td>\n",
       "      <td>2</td>\n",
       "      <td>5</td>\n",
       "      <td>1</td>\n",
       "      <td>0</td>\n",
       "      <td>0</td>\n",
       "      <td>0</td>\n",
       "      <td>0</td>\n",
       "      <td>1</td>\n",
       "      <td>4</td>\n",
       "    </tr>\n",
       "    <tr>\n",
       "      <th>153113</th>\n",
       "      <td>2019983115619</td>\n",
       "      <td>1</td>\n",
       "      <td>1</td>\n",
       "      <td>3</td>\n",
       "      <td>1</td>\n",
       "      <td>0</td>\n",
       "      <td>1</td>\n",
       "      <td>3</td>\n",
       "      <td>9</td>\n",
       "      <td>8</td>\n",
       "      <td>0</td>\n",
       "      <td>0</td>\n",
       "      <td>0</td>\n",
       "      <td>0</td>\n",
       "      <td>-1</td>\n",
       "      <td>-1</td>\n",
       "    </tr>\n",
       "    <tr>\n",
       "      <th>153131</th>\n",
       "      <td>2019984104219</td>\n",
       "      <td>1</td>\n",
       "      <td>1</td>\n",
       "      <td>3</td>\n",
       "      <td>2</td>\n",
       "      <td>75</td>\n",
       "      <td>10</td>\n",
       "      <td>2</td>\n",
       "      <td>6</td>\n",
       "      <td>9</td>\n",
       "      <td>0</td>\n",
       "      <td>0</td>\n",
       "      <td>0</td>\n",
       "      <td>0</td>\n",
       "      <td>2</td>\n",
       "      <td>4</td>\n",
       "    </tr>\n",
       "    <tr>\n",
       "      <th>153132</th>\n",
       "      <td>2019984104419</td>\n",
       "      <td>1</td>\n",
       "      <td>1</td>\n",
       "      <td>3</td>\n",
       "      <td>1</td>\n",
       "      <td>16</td>\n",
       "      <td>4</td>\n",
       "      <td>3</td>\n",
       "      <td>6</td>\n",
       "      <td>9</td>\n",
       "      <td>0</td>\n",
       "      <td>0</td>\n",
       "      <td>0</td>\n",
       "      <td>0</td>\n",
       "      <td>2</td>\n",
       "      <td>6</td>\n",
       "    </tr>\n",
       "    <tr>\n",
       "      <th>153156</th>\n",
       "      <td>2019984107419</td>\n",
       "      <td>1</td>\n",
       "      <td>1</td>\n",
       "      <td>3</td>\n",
       "      <td>1</td>\n",
       "      <td>54</td>\n",
       "      <td>8</td>\n",
       "      <td>3</td>\n",
       "      <td>5</td>\n",
       "      <td>3</td>\n",
       "      <td>0</td>\n",
       "      <td>0</td>\n",
       "      <td>0</td>\n",
       "      <td>0</td>\n",
       "      <td>3</td>\n",
       "      <td>8</td>\n",
       "    </tr>\n",
       "  </tbody>\n",
       "</table>\n",
       "<p>21770 rows × 16 columns</p>\n",
       "</div>"
      ],
      "text/plain": [
       "       Accident_Index  Vehicle_Reference  Casualty_Reference  Casualty_Class  \\\n",
       "5       2019010155192                  1                   1               3   \n",
       "11      2019010155196                  1                   1               3   \n",
       "19      2019010155209                  1                   1               3   \n",
       "20      2019010155210                  1                   1               3   \n",
       "21      2019010155216                  1                   1               3   \n",
       "...               ...                ...                 ...             ...   \n",
       "153108  2019983114119                  1                   1               3   \n",
       "153113  2019983115619                  1                   1               3   \n",
       "153131  2019984104219                  1                   1               3   \n",
       "153132  2019984104419                  1                   1               3   \n",
       "153156  2019984107419                  1                   1               3   \n",
       "\n",
       "        Sex_of_Casualty  Age_of_Casualty  Age_Band_of_Casualty  \\\n",
       "5                     1               68                    10   \n",
       "11                    1               40                     7   \n",
       "19                    1               23                     5   \n",
       "20                    1               24                     5   \n",
       "21                    1               38                     7   \n",
       "...                 ...              ...                   ...   \n",
       "153108                1               64                     9   \n",
       "153113                1                0                     1   \n",
       "153131                2               75                    10   \n",
       "153132                1               16                     4   \n",
       "153156                1               54                     8   \n",
       "\n",
       "        Casualty_Severity  Pedestrian_Location  Pedestrian_Movement  \\\n",
       "5                       2                    5                    4   \n",
       "11                      3                    1                    3   \n",
       "19                      3                    1                    1   \n",
       "20                      1                    5                    1   \n",
       "21                      3                    5                    3   \n",
       "...                   ...                  ...                  ...   \n",
       "153108                  2                    5                    1   \n",
       "153113                  3                    9                    8   \n",
       "153131                  2                    6                    9   \n",
       "153132                  3                    6                    9   \n",
       "153156                  3                    5                    3   \n",
       "\n",
       "        Car_Passenger  Bus_or_Coach_Passenger  \\\n",
       "5                   0                       0   \n",
       "11                  0                       0   \n",
       "19                  0                       0   \n",
       "20                  0                       0   \n",
       "21                  0                       0   \n",
       "...               ...                     ...   \n",
       "153108              0                       0   \n",
       "153113              0                       0   \n",
       "153131              0                       0   \n",
       "153132              0                       0   \n",
       "153156              0                       0   \n",
       "\n",
       "        Pedestrian_Road_Maintenance_Worker  Casualty_Type  \\\n",
       "5                                        0              0   \n",
       "11                                       0              0   \n",
       "19                                       0              0   \n",
       "20                                       0              0   \n",
       "21                                       0              0   \n",
       "...                                    ...            ...   \n",
       "153108                                   0              0   \n",
       "153113                                   0              0   \n",
       "153131                                   0              0   \n",
       "153132                                   0              0   \n",
       "153156                                   0              0   \n",
       "\n",
       "        Casualty_Home_Area_Type  Casualty_IMD_Decile  \n",
       "5                             1                    4  \n",
       "11                            1                    4  \n",
       "19                            1                    8  \n",
       "20                            1                   10  \n",
       "21                            1                    4  \n",
       "...                         ...                  ...  \n",
       "153108                        1                    4  \n",
       "153113                       -1                   -1  \n",
       "153131                        2                    4  \n",
       "153132                        2                    6  \n",
       "153156                        3                    8  \n",
       "\n",
       "[21770 rows x 16 columns]"
      ]
     },
     "execution_count": 333,
     "metadata": {},
     "output_type": "execute_result"
    }
   ],
   "source": [
    "#Pedestrian key from the variable lookup is 0\n",
    "#create a df of pedestrians invloved in accidents\n",
    "pedestrian_df = casualties_df[(casualties_df['Casualty_Type'] == 0)]\n",
    "pedestrian_df\n"
   ]
  },
  {
   "cell_type": "code",
   "execution_count": 334,
   "id": "6012dae1",
   "metadata": {},
   "outputs": [],
   "source": [
    "#merge the accident_df with pedestrian df to get a new dataframe\n",
    "casualties_pedestrian_df = accident_df.merge(pedestrian_df, on=['Accident_Index'], how='inner')\n",
    "casualties_pedestrian_df\n",
    "casualties_pedestrian_df['Week_Day'] = casualties_pedestrian_df['Day_of_Week'].map({1: 'Sunday', 2:'Monday', 3: 'Tuesday', 4: 'Wednesday', 5: 'Thursday', 6: 'Friday', 7: 'Saturday'})"
   ]
  },
  {
   "cell_type": "markdown",
   "id": "e1e04d1d",
   "metadata": {},
   "source": [
    "##### Pedestrian accident by hours of the day"
   ]
  },
  {
   "cell_type": "code",
   "execution_count": 335,
   "id": "4b47d1e2",
   "metadata": {},
   "outputs": [
    {
     "data": {
      "image/png": "[encoded data removed]",
      "text/plain": [
       "<Figure size 360x360 with 1 Axes>"
      ]
     },
     "metadata": {},
     "output_type": "display_data"
    }
   ],
   "source": [
    "#pedestrian\n",
    "%matplotlib inline\n",
    "sns.set_style('darkgrid')\n",
    "sns.displot(data=casualties_pedestrian_df, x= 'decimal_time', kde = True, bins =24)\n",
    "plt.xlabel(\"Hours of the Day\")\n",
    "plt.ylabel(\"Accident count\")\n",
    "plt.show()"
   ]
  },
  {
   "cell_type": "markdown",
   "id": "f0671226",
   "metadata": {},
   "source": [
    "##### Pedestrian accident by days of the week"
   ]
  },
  {
   "cell_type": "code",
   "execution_count": 336,
   "id": "c3f8a2fe",
   "metadata": {},
   "outputs": [
    {
     "data": {
      "image/png": "[encoded data removed]",
      "text/plain": [
       "<Figure size 360x360 with 1 Axes>"
      ]
     },
     "metadata": {},
     "output_type": "display_data"
    }
   ],
   "source": [
    "%matplotlib inline\n",
    "sns.set_style('darkgrid')\n",
    "sns.displot(data=casualties_pedestrian_df, x= 'Week_Day', bins= 7)\n",
    "plt.xlabel(\"Day of the Week\")\n",
    "plt.ylabel(\"Accident count\")\n",
    "plt.xticks(rotation=90)\n",
    "plt.show()"
   ]
  },
  {
   "cell_type": "markdown",
   "id": "32c1c537",
   "metadata": {},
   "source": [
    "### QUESTION D - WHAT IMPACT IF ANY, DOES DAYLIGHT SAVINGS HAVE ON ROAD TRAFFIC ACCIDENTS IN THE WEEK AFTER IT STARTS AND STOPS?"
   ]
  },
  {
   "cell_type": "markdown",
   "id": "84dc3874",
   "metadata": {},
   "source": [
    "##### Daylight saving time 2019 in United Kingdom began at 01:00 on Sunday, 31 March and ended at 02:00 on Sunday, 27 October All times are in United Kingdom Time."
   ]
  },
  {
   "cell_type": "markdown",
   "id": "6fb2ab01",
   "metadata": {},
   "source": [
    "###### The typical implementation of Daylight saving time  is to set clocks forward by one hour in the spring (\"spring forward\"), and to set clocks back by one hour in autumn (\"fall back\") to return to standard time. As a result, there is one 23-hour day in late winter or early spring and one 25-hour day in autumn"
   ]
  },
  {
   "cell_type": "code",
   "execution_count": 337,
   "id": "a6588db2",
   "metadata": {},
   "outputs": [
    {
     "data": {
      "text/plain": [
       "0        2019-02-18\n",
       "1        2019-01-15\n",
       "2        2019-01-01\n",
       "3        2019-01-01\n",
       "4        2019-01-01\n",
       "            ...    \n",
       "117531   2019-05-18\n",
       "117532   2019-05-30\n",
       "117533   2019-06-21\n",
       "117534   2019-06-29\n",
       "117535   2019-04-21\n",
       "Name: Date, Length: 117536, dtype: datetime64[ns]"
      ]
     },
     "execution_count": 337,
     "metadata": {},
     "output_type": "execute_result"
    }
   ],
   "source": [
    "accident_df['Day']=pd.DatetimeIndex(accident_df['Date']).day\n",
    "accident_df['Month'] = pd.DatetimeIndex(accident_df['Date']).month\n",
    "accident_df['Year'] = pd.DatetimeIndex(accident_df['Date']).year\n",
    "accident_df['Date'] = pd.to_datetime(accident_df['Date'])\n",
    "accident_df['Date']"
   ]
  },
  {
   "cell_type": "code",
   "execution_count": 338,
   "id": "80c9b5f2",
   "metadata": {},
   "outputs": [
    {
     "name": "stdout",
     "output_type": "stream",
     "text": [
      "2019-04-07 00:00:00 2019-11-03 00:00:00\n"
     ]
    }
   ],
   "source": [
    "#Get when daylight start and add a week to it \n",
    "#Get dayligh saving stop period and add a weeks to it to observe changes to accident figures\n",
    "dls_start_interval = datetime.datetime(2019,3,31) + datetime.timedelta(weeks=1)\n",
    "dls_stop_interval = datetime.datetime(2019,10,27) + datetime.timedelta(weeks=1)\n",
    "print(dls_start_interval, dls_stop_interval)"
   ]
  },
  {
   "cell_type": "code",
   "execution_count": 339,
   "id": "947206e2",
   "metadata": {},
   "outputs": [],
   "source": [
    "#The week after DLS starts and the week after it stops\n",
    "dls_start_week = accident_df[(accident_df['Date'] >= '2019-03-31') & (accident_df['Date'] <= '2019-04-07')]\n",
    "dls_stop_week = accident_df[(accident_df['Date'] >= '2019-10-27') & (accident_df['Date'] <= '2019-11-03')]"
   ]
  },
  {
   "cell_type": "code",
   "execution_count": 435,
   "id": "0fa9fd38",
   "metadata": {},
   "outputs": [],
   "source": [
    "week_after_start = (dls_start_week['Accident_Index'].count())\n",
    "week_after_stop = dls_stop_week['Accident_Index'].count()"
   ]
  },
  {
   "cell_type": "code",
   "execution_count": 448,
   "id": "645a4e60",
   "metadata": {},
   "outputs": [
    {
     "data": {
      "text/plain": [
       "56"
      ]
     },
     "execution_count": 448,
     "metadata": {},
     "output_type": "execute_result"
    }
   ],
   "source": [
    "#Percentage of the general accident \n",
    "difference_after = week_after_stop-week_after_start\n",
    "difference_after"
   ]
  },
  {
   "cell_type": "code",
   "execution_count": 449,
   "id": "04f2271a",
   "metadata": {},
   "outputs": [
    {
     "data": {
      "text/plain": [
       "2.2399999999999998"
      ]
     },
     "execution_count": 449,
     "metadata": {},
     "output_type": "execute_result"
    }
   ],
   "source": [
    "(difference_after/week_after_start)*100"
   ]
  },
  {
   "cell_type": "markdown",
   "id": "6617fb87",
   "metadata": {},
   "source": [
    "### QUESTION E - WHAT IMPACT, IF ANY, DOES SUNRISE AND SUNSET TIMES HAVE ON ROAD TRAFFIC ACCIDENTS?"
   ]
  },
  {
   "cell_type": "code",
   "execution_count": 348,
   "id": "b5feb484",
   "metadata": {},
   "outputs": [],
   "source": [
    "from suntime import Sun, SunTimeException\n",
    "def sun_def(latitude, longitude, date):\n",
    "    sun = Sun(latitude, longitude)\n",
    "    date = date\n",
    "    sunset = sun.get_local_sunset_time(date).strftime('%H:%M')\n",
    "    sunrise = sun.get_local_sunrise_time(date).strftime('%H:%M')\n",
    "    return sunrise, sunset"
   ]
  },
  {
   "cell_type": "code",
   "execution_count": 349,
   "id": "46412659",
   "metadata": {},
   "outputs": [],
   "source": [
    "accident_df['sunrise'] = accident_df.apply(lambda x: sunrise_sunset(x['Latitude'], x['Longitude'], x['Date'])[0],axis=1)\n",
    "accident_df['sunset'] = accident_df.apply(lambda x: sunrise_sunset(x['Latitude'], x['Longitude'], x['Date'])[1],axis=1)"
   ]
  },
  {
   "cell_type": "code",
   "execution_count": 350,
   "id": "f4222eba",
   "metadata": {},
   "outputs": [],
   "source": [
    "convert_date('sunrise')\n",
    "convert_date('sunset')"
   ]
  },
  {
   "cell_type": "code",
   "execution_count": 353,
   "id": "9088252b",
   "metadata": {},
   "outputs": [],
   "source": [
    "def tdh_sun(df, col, col_name):\n",
    "    df[col_name] = df[col].dt.hour + df[col].dt.minute/60\n",
    "    \n",
    "tdh_sun(accident_df, 'sunrise', 'sunrise_decimal_time')\n",
    "tdh_sun(accident_df, 'sunset', 'sunset_decimal_time')"
   ]
  },
  {
   "cell_type": "code",
   "execution_count": 362,
   "id": "ddde27fe",
   "metadata": {},
   "outputs": [
    {
     "data": {
      "text/plain": [
       "0.5"
      ]
     },
     "execution_count": 362,
     "metadata": {},
     "output_type": "execute_result"
    }
   ],
   "source": [
    "#30 minutes to hour\n",
    "time_place = 30/60\n",
    "time_place"
   ]
  },
  {
   "cell_type": "markdown",
   "id": "ab42b787",
   "metadata": {},
   "source": [
    "##### Sunrise"
   ]
  },
  {
   "cell_type": "code",
   "execution_count": 363,
   "id": "12c06977",
   "metadata": {},
   "outputs": [],
   "source": [
    "accident_df['prev_sunrise'] = accident_df.decimal_time.between((accident_df['sunrise_decimal_time']-time_place), accident_df['sunrise_decimal_time'])\n",
    "accident_df['post_sunrise'] = accident_df.decimal_time.between(accident_df['sunrise_decimal_time'],(accident_df['sunrise_decimal_time'] + time_place))"
   ]
  },
  {
   "cell_type": "code",
   "execution_count": 366,
   "id": "7dccfc80",
   "metadata": {},
   "outputs": [
    {
     "data": {
      "text/plain": [
       "Day_of_Week\n",
       "1    102\n",
       "2    299\n",
       "3    255\n",
       "4    286\n",
       "5    286\n",
       "6    235\n",
       "7    113\n",
       "Name: Accident_Index, dtype: int64"
      ]
     },
     "execution_count": 366,
     "metadata": {},
     "output_type": "execute_result"
    }
   ],
   "source": [
    "# accident cout after sunrise 30 minutes before\n",
    "prev_sunrise_df = accident_df[accident_df.prev_sunrise == True]\n",
    "prev_sunrise_df = prev_sunrise_df.groupby('Day_of_Week')['Accident_Index'].count()\n",
    "prev_sunrise_df"
   ]
  },
  {
   "cell_type": "code",
   "execution_count": 367,
   "id": "07f917ca",
   "metadata": {},
   "outputs": [
    {
     "data": {
      "text/plain": [
       "Day_of_Week\n",
       "1    101\n",
       "2    311\n",
       "3    403\n",
       "4    346\n",
       "5    333\n",
       "6    291\n",
       "7    117\n",
       "Name: Accident_Index, dtype: int64"
      ]
     },
     "execution_count": 367,
     "metadata": {},
     "output_type": "execute_result"
    }
   ],
   "source": [
    "# accident count after sunrise 30 minutes after\n",
    "post_sunrise_df = accident_df[accident_df.post_sunrise == True]\n",
    "post_sunrise_df = post_sunrise_df.groupby('Day_of_Week')['Accident_Index'].count()\n",
    "post_sunrise_df"
   ]
  },
  {
   "cell_type": "code",
   "execution_count": 370,
   "id": "17ac7af8",
   "metadata": {},
   "outputs": [
    {
     "name": "stdout",
     "output_type": "stream",
     "text": [
      "-0.860244155787569 0.40651342135520974\n",
      "fail to reject H0\n"
     ]
    }
   ],
   "source": [
    "# measure the significance of pre and post sunrise and see if we accept or reject null hypothesis\n",
    "from scipy.stats import ttest_ind\n",
    "# compare samples\n",
    "stat, p = ttest_ind(prev_sunrise_df, post_sunrise_df)\n",
    "\n",
    "print(stat, p)\n",
    "\n",
    "# interpret\n",
    "z = 0.05\n",
    "if p > z:\n",
    "  print('fail to reject H0')\n",
    "else:\n",
    "  print('reject H0')"
   ]
  },
  {
   "cell_type": "markdown",
   "id": "519c8ccc",
   "metadata": {},
   "source": [
    "#### Sunset"
   ]
  },
  {
   "cell_type": "code",
   "execution_count": 373,
   "id": "f5b81162",
   "metadata": {},
   "outputs": [],
   "source": [
    "# Sunset\n",
    "accident_df['pre_sunset'] = accident_df.decimal_time.between((accident_df['sunset_decimal_time']-time_place), accident_df['sunset_decimal_time'])\n",
    "accident_df['post_sunset'] = accident_df.decimal_time.between(accident_df['sunset_decimal_time'],(accident_df['sunset_decimal_time'] + time_place))"
   ]
  },
  {
   "cell_type": "code",
   "execution_count": 374,
   "id": "75ee5765",
   "metadata": {},
   "outputs": [
    {
     "data": {
      "text/plain": [
       "Day_of_Week\n",
       "1    322\n",
       "2    472\n",
       "3    502\n",
       "4    534\n",
       "5    565\n",
       "6    540\n",
       "7    373\n",
       "Name: Accident_Index, dtype: int64"
      ]
     },
     "execution_count": 374,
     "metadata": {},
     "output_type": "execute_result"
    }
   ],
   "source": [
    "# number of accidents 20 mins to sunset time\n",
    "pre_sunset_df = accident_df[accident_df.pre_sunset == True]\n",
    "pre_sunset_df = pre_sunset_df.groupby('Day_of_Week')['Accident_Index'].count()\n",
    "pre_sunset_df"
   ]
  },
  {
   "cell_type": "code",
   "execution_count": 375,
   "id": "bf41434d",
   "metadata": {},
   "outputs": [
    {
     "data": {
      "text/plain": [
       "Day_of_Week\n",
       "1    318\n",
       "2    461\n",
       "3    491\n",
       "4    540\n",
       "5    548\n",
       "6    520\n",
       "7    367\n",
       "Name: Accident_Index, dtype: int64"
      ]
     },
     "execution_count": 375,
     "metadata": {},
     "output_type": "execute_result"
    }
   ],
   "source": [
    "# number of accidents 20 mins past sunset time\n",
    "post_sunset_df = accident_df[accident_df.post_sunset == True]\n",
    "post_sunset_df = post_sunset_df.groupby('Day_of_Week')['Accident_Index'].count()\n",
    "post_sunset_df"
   ]
  },
  {
   "cell_type": "code",
   "execution_count": 376,
   "id": "dd920c73",
   "metadata": {},
   "outputs": [
    {
     "name": "stdout",
     "output_type": "stream",
     "text": [
      "0.18656016924493035 0.8551222827087347\n",
      "fail to reject H0\n"
     ]
    }
   ],
   "source": [
    "# student's t-test\n",
    "from scipy.stats import ttest_ind\n",
    "# compare samples\n",
    "stat, p = ttest_ind(pre_sunset_df, post_sunset_df)\n",
    "\n",
    "print(stat, p)\n",
    "\n",
    "# interpret\n",
    "z = 0.05\n",
    "if p > z:\n",
    "  print('fail to reject H0')\n",
    "else:\n",
    "  print('reject H0')"
   ]
  },
  {
   "cell_type": "markdown",
   "id": "db9c435f",
   "metadata": {},
   "source": [
    "### QUESTION F - ARE THERE PARTICULAR TYPES OF VEHICLE (ENGINE CAPACITY AND AGE ) THAT ARE MORE FREQUENTLY INVOLVED IN ROAD TRAFFIC ACCIDENT?"
   ]
  },
  {
   "cell_type": "markdown",
   "id": "66a66b0e",
   "metadata": {},
   "source": [
    "##### Vehicle cc and age"
   ]
  },
  {
   "cell_type": "code",
   "execution_count": 377,
   "id": "dbcdd010",
   "metadata": {},
   "outputs": [
    {
     "data": {
      "text/plain": [
       "array([-1,  4,  1, 14,  7, 12, 15, 11,  5,  2, 10, 17,  8, 22,  9,  6, 18,\n",
       "        3, 16, 27, 13, 20, 21, 19, 23, 26, 24, 38, 53, 30, 25, 29, 37, 28,\n",
       "       33, 39, 31, 36, 44, 40, 35, 57, 34, 41, 59, 32, 42, 45, 87, 94, 63,\n",
       "       52, 48, 90, 54, 47, 60, 55, 66, 43, 58, 50, 46, 88, 72, 51, 74, 65,\n",
       "       56, 77, 62, 61, 71, 49, 80])"
      ]
     },
     "execution_count": 377,
     "metadata": {},
     "output_type": "execute_result"
    }
   ],
   "source": [
    "#A look at the engine capapcity and unique age of vehicles in the dataframe\n",
    "vehicles_df['Engine_Capacity_(CC)']\n",
    "vehicles_df['Age_of_Vehicle'].unique()"
   ]
  },
  {
   "cell_type": "code",
   "execution_count": 378,
   "id": "e640ee19",
   "metadata": {},
   "outputs": [
    {
     "data": {
      "text/html": [
       "<div>\n",
       "<style scoped>\n",
       "    .dataframe tbody tr th:only-of-type {\n",
       "        vertical-align: middle;\n",
       "    }\n",
       "\n",
       "    .dataframe tbody tr th {\n",
       "        vertical-align: top;\n",
       "    }\n",
       "\n",
       "    .dataframe thead th {\n",
       "        text-align: right;\n",
       "    }\n",
       "</style>\n",
       "<table border=\"1\" class=\"dataframe\">\n",
       "  <thead>\n",
       "    <tr style=\"text-align: right;\">\n",
       "      <th></th>\n",
       "      <th>Engine_Capacity_(CC)</th>\n",
       "      <th>Age_of_Vehicle</th>\n",
       "    </tr>\n",
       "  </thead>\n",
       "  <tbody>\n",
       "    <tr>\n",
       "      <th>0</th>\n",
       "      <td>-1</td>\n",
       "      <td>-1</td>\n",
       "    </tr>\n",
       "    <tr>\n",
       "      <th>1</th>\n",
       "      <td>-1</td>\n",
       "      <td>-1</td>\n",
       "    </tr>\n",
       "    <tr>\n",
       "      <th>2</th>\n",
       "      <td>-1</td>\n",
       "      <td>-1</td>\n",
       "    </tr>\n",
       "    <tr>\n",
       "      <th>3</th>\n",
       "      <td>-1</td>\n",
       "      <td>-1</td>\n",
       "    </tr>\n",
       "    <tr>\n",
       "      <th>4</th>\n",
       "      <td>-1</td>\n",
       "      <td>-1</td>\n",
       "    </tr>\n",
       "    <tr>\n",
       "      <th>...</th>\n",
       "      <td>...</td>\n",
       "      <td>...</td>\n",
       "    </tr>\n",
       "    <tr>\n",
       "      <th>216376</th>\n",
       "      <td>2198</td>\n",
       "      <td>4</td>\n",
       "    </tr>\n",
       "    <tr>\n",
       "      <th>216377</th>\n",
       "      <td>1997</td>\n",
       "      <td>12</td>\n",
       "    </tr>\n",
       "    <tr>\n",
       "      <th>216378</th>\n",
       "      <td>2967</td>\n",
       "      <td>5</td>\n",
       "    </tr>\n",
       "    <tr>\n",
       "      <th>216379</th>\n",
       "      <td>1597</td>\n",
       "      <td>6</td>\n",
       "    </tr>\n",
       "    <tr>\n",
       "      <th>216380</th>\n",
       "      <td>599</td>\n",
       "      <td>20</td>\n",
       "    </tr>\n",
       "  </tbody>\n",
       "</table>\n",
       "<p>216381 rows × 2 columns</p>\n",
       "</div>"
      ],
      "text/plain": [
       "        Engine_Capacity_(CC)  Age_of_Vehicle\n",
       "0                         -1              -1\n",
       "1                         -1              -1\n",
       "2                         -1              -1\n",
       "3                         -1              -1\n",
       "4                         -1              -1\n",
       "...                      ...             ...\n",
       "216376                  2198               4\n",
       "216377                  1997              12\n",
       "216378                  2967               5\n",
       "216379                  1597               6\n",
       "216380                   599              20\n",
       "\n",
       "[216381 rows x 2 columns]"
      ]
     },
     "execution_count": 378,
     "metadata": {},
     "output_type": "execute_result"
    }
   ],
   "source": [
    "\n",
    "vehicle_eng_age = vehicles_df.loc[:, vehicles_df.columns.intersection(['Engine_Capacity_(CC)','Age_of_Vehicle'])]\n",
    "vehicle_eng_age"
   ]
  },
  {
   "cell_type": "code",
   "execution_count": 379,
   "id": "3f56507d",
   "metadata": {},
   "outputs": [
    {
     "data": {
      "text/plain": [
       "KMeans(n_clusters=10)"
      ]
     },
     "execution_count": 379,
     "metadata": {},
     "output_type": "execute_result"
    }
   ],
   "source": [
    "kmeans=KMeans(n_clusters=10)\n",
    "kmeans.fit(vehicle_eng_age)"
   ]
  },
  {
   "cell_type": "code",
   "execution_count": 380,
   "id": "ec858385",
   "metadata": {},
   "outputs": [
    {
     "data": {
      "text/plain": [
       "array([[ 2.03604736e+03,  7.89483184e+00],\n",
       "       [ 9.89403585e+03,  6.71239283e+00],\n",
       "       [ 1.80805227e+01, -2.63211239e-02],\n",
       "       [ 6.87238316e+03,  7.47573898e+00],\n",
       "       [ 1.29349341e+03,  8.71848014e+00],\n",
       "       [ 2.89476089e+03,  9.12562455e+00],\n",
       "       [ 4.54363160e+03,  6.54673445e+00],\n",
       "       [ 1.28049140e+04,  4.77133956e+00],\n",
       "       [ 9.29376139e+02,  7.37381245e+00],\n",
       "       [ 1.60769625e+03,  7.64206148e+00]])"
      ]
     },
     "execution_count": 380,
     "metadata": {},
     "output_type": "execute_result"
    }
   ],
   "source": [
    "labels=kmeans.predict(vehicle_eng_age)\n",
    "centroids = kmeans.cluster_centers_\n",
    "centroids\n"
   ]
  },
  {
   "cell_type": "code",
   "execution_count": 381,
   "id": "9ce26caf",
   "metadata": {
    "scrolled": true
   },
   "outputs": [
    {
     "data": {
      "image/png": "[encoded data removed]",
      "text/plain": [
       "<Figure size 504x504 with 1 Axes>"
      ]
     },
     "metadata": {},
     "output_type": "display_data"
    }
   ],
   "source": [
    "fig = plt.figure(figsize=(7,7))\n",
    "colors = map(lambda x: colmap[x+1], labels)\n",
    "plt.xlabel('Engine_capacity(CC)',fontdict = {'fontsize' : 15})\n",
    "plt.ylabel('Age of vehicle',fontdict = {'fontsize' : 15})\n",
    "plt.title('Engine and Age of Vehicle Accident Figure', fontdict = {'fontsize' : 15})\n",
    "plt.scatter(vehicle_eng_age['Engine_Capacity_(CC)'],vehicle_eng_age['Age_of_Vehicle'],color=\"orange\")\n",
    "plt.scatter(centroids[:,0],centroids[:,1],color=\"red\")\n",
    "plt.show()"
   ]
  },
  {
   "cell_type": "markdown",
   "id": "760a56d9",
   "metadata": {},
   "source": [
    "### QUESTION G - ARE THERE PARTICULAR CONDITIONS (WEATHER, GEOGRAPHIC LOCATION, SITUATIONS) THAT GENERATE MORE ROAD TRAFFIC ACCIDENTS?"
   ]
  },
  {
   "cell_type": "markdown",
   "id": "d013a5ab",
   "metadata": {},
   "source": [
    "##### Weather condtions"
   ]
  },
  {
   "cell_type": "code",
   "execution_count": 382,
   "id": "0b62853e",
   "metadata": {},
   "outputs": [
    {
     "data": {
      "image/png": "[encoded data removed]",
      "text/plain": [
       "<Figure size 576x504 with 1 Axes>"
      ]
     },
     "metadata": {},
     "output_type": "display_data"
    },
    {
     "data": {
      "text/plain": [
       "Fine no high winds       92316\n",
       "Raining no high winds    15294\n",
       "Unknown                   3436\n",
       "Other                     3043\n",
       "Raining + high winds      1430\n",
       "Fine + high winds         1230\n",
       "Fog or Mist                394\n",
       "Snowing no high winds      353\n",
       "Snowing + high winds        40\n",
       "Name: Weather, dtype: int64"
      ]
     },
     "execution_count": 382,
     "metadata": {},
     "output_type": "execute_result"
    }
   ],
   "source": [
    "accident_df['Weather_Conditions'].unique()\n",
    "\n",
    "accident_df['Weather'] = accident_df['Weather_Conditions'].map({1: 'Fine no high winds', 2: 'Raining no high winds', 3: 'Snowing no high winds', 4: 'Fine + high winds', 5: 'Raining + high winds', 6: 'Snowing + high winds', 7: 'Fog or Mist', 8: 'Other', 9: 'Unknown'})\n",
    "fig, axs = plt.subplots(nrows=1, ncols=1, constrained_layout=True, figsize=(8,7))\n",
    "weather = accident_df[\"Weather\"].value_counts()\n",
    "sns.barplot(ax=axs, x = weather.index, y = weather)\n",
    "axs.set_title(\"Weather conditions\")\n",
    "axs.tick_params(labelrotation=90)\n",
    "plt.show()\n",
    "weather\n"
   ]
  },
  {
   "cell_type": "code",
   "execution_count": 450,
   "id": "592b0263",
   "metadata": {},
   "outputs": [
    {
     "data": {
      "text/plain": [
       "78.54274435066702"
      ]
     },
     "execution_count": 450,
     "metadata": {},
     "output_type": "execute_result"
    }
   ],
   "source": [
    "(92316/accident_df['Accident_Index'].count())*100"
   ]
  },
  {
   "cell_type": "code",
   "execution_count": 451,
   "id": "558cf92d",
   "metadata": {},
   "outputs": [
    {
     "data": {
      "text/plain": [
       "13.012183501225156"
      ]
     },
     "execution_count": 451,
     "metadata": {},
     "output_type": "execute_result"
    }
   ],
   "source": [
    "(15294/accident_df['Accident_Index'].count())*100"
   ]
  },
  {
   "cell_type": "markdown",
   "id": "f591524f",
   "metadata": {},
   "source": [
    "##### Road type"
   ]
  },
  {
   "cell_type": "code",
   "execution_count": 383,
   "id": "effc238d",
   "metadata": {},
   "outputs": [
    {
     "data": {
      "image/png": "[encoded data removed]",
      "text/plain": [
       "<Figure size 576x504 with 1 Axes>"
      ]
     },
     "metadata": {},
     "output_type": "display_data"
    },
    {
     "data": {
      "text/plain": [
       "Single carriageway    85320\n",
       "Dual carriageway      18590\n",
       "Roundabout             6880\n",
       "One way street         2664\n",
       "Unknown                2143\n",
       "Slip road              1939\n",
       "Name: Roads, dtype: int64"
      ]
     },
     "execution_count": 383,
     "metadata": {},
     "output_type": "execute_result"
    }
   ],
   "source": [
    "accident_df['Roads'] = accident_df['Road_Type'].map({1: 'Roundabout', 2: 'One way street', 3: 'Dual carriageway', 6: 'Single carriageway', 7: 'Slip road', 9: 'Unknown'})\n",
    "roads = accident_df['Roads'].value_counts()\n",
    "# Road type\n",
    "fig, axs = plt.subplots(nrows=1, ncols=1, constrained_layout=True, figsize=(8,7))\n",
    "sns.barplot(ax=axs, x = roads.index, y = roads)\n",
    "axs.set_title(\"Road\")\n",
    "axs.tick_params(labelrotation=90)\n",
    "plt.show()\n",
    "roads"
   ]
  },
  {
   "cell_type": "code",
   "execution_count": 452,
   "id": "a5c23c8c",
   "metadata": {},
   "outputs": [
    {
     "data": {
      "text/plain": [
       "72.59052545603049"
      ]
     },
     "execution_count": 452,
     "metadata": {},
     "output_type": "execute_result"
    }
   ],
   "source": [
    "(85320/accident_df['Accident_Index'].count())*100"
   ]
  },
  {
   "cell_type": "markdown",
   "id": "32518369",
   "metadata": {},
   "source": [
    "###### Speed limit"
   ]
  },
  {
   "cell_type": "code",
   "execution_count": 384,
   "id": "c9545c11",
   "metadata": {},
   "outputs": [
    {
     "data": {
      "image/png": "[encoded data removed]",
      "text/plain": [
       "<Figure size 576x504 with 1 Axes>"
      ]
     },
     "metadata": {},
     "output_type": "display_data"
    },
    {
     "data": {
      "text/plain": [
       " 30    69305\n",
       " 60    14514\n",
       " 20    11747\n",
       " 40    10021\n",
       " 70     7153\n",
       " 50     4716\n",
       "-1        80\n",
       "Name: Speed_limit, dtype: int64"
      ]
     },
     "execution_count": 384,
     "metadata": {},
     "output_type": "execute_result"
    }
   ],
   "source": [
    "fig, axs = plt.subplots(nrows=1, ncols=1, constrained_layout=True, figsize=(8,7))\n",
    "speed = accident_df['Speed_limit'].value_counts()\n",
    "sns.barplot(ax=axs, x = speed.index, y = speed)\n",
    "axs.set_title(\"Speed\")\n",
    "axs.tick_params(labelrotation=90)\n",
    "plt.show()\n",
    "speed"
   ]
  },
  {
   "cell_type": "markdown",
   "id": "2cc1e234",
   "metadata": {},
   "source": [
    "###### Road surface "
   ]
  },
  {
   "cell_type": "code",
   "execution_count": 385,
   "id": "59cc8f9a",
   "metadata": {},
   "outputs": [
    {
     "data": {
      "image/png": "[encoded data removed]",
      "text/plain": [
       "<Figure size 576x504 with 1 Axes>"
      ]
     },
     "metadata": {},
     "output_type": "display_data"
    },
    {
     "data": {
      "text/plain": [
       "Data missing      82321\n",
       "Wet or damp       32259\n",
       "Frost or ice       1185\n",
       "snow                245\n",
       "Flood over 3cm      177\n",
       "Name: Road_surface, dtype: int64"
      ]
     },
     "execution_count": 385,
     "metadata": {},
     "output_type": "execute_result"
    }
   ],
   "source": [
    "accident_df['Road_surface'] = accident_df['Road_Surface_Conditions'].map({1: 'Dry', 2: 'Wet or damp', 3: 'snow', 4: 'Frost or ice', 5: 'Flood over 3cm', 6: 'Oil and diesel', 7: 'Mud', 1: 'Data missing'})\n",
    "\n",
    "fig, axs = plt.subplots(nrows=1, ncols=1, constrained_layout=True, figsize=(8,7))\n",
    "road_surface = accident_df['Road_surface'].value_counts()\n",
    "sns.barplot(ax=axs, x = road_surface.index, y = road_surface)\n",
    "axs.set_title(\"Road Surface Condition\")\n",
    "axs.tick_params(labelrotation = 90)\n",
    "plt.show()\n",
    "road_surface\n"
   ]
  },
  {
   "cell_type": "markdown",
   "id": "9d970a68",
   "metadata": {},
   "source": [
    "#### Geographical Location"
   ]
  },
  {
   "cell_type": "code",
   "execution_count": 386,
   "id": "4ed66e45",
   "metadata": {},
   "outputs": [
    {
     "data": {
      "text/plain": [
       "[<matplotlib.lines.Line2D at 0x7fd9e6e58790>]"
      ]
     },
     "execution_count": 386,
     "metadata": {},
     "output_type": "execute_result"
    },
    {
     "data": {
      "image/png": "[encoded data removed]",
      "text/plain": [
       "<Figure size 576x576 with 1 Axes>"
      ]
     },
     "metadata": {},
     "output_type": "display_data"
    }
   ],
   "source": [
    "from sklearn.cluster import*\n",
    "\n",
    "# use longitude and latitude to check location that are more frequently involve in road traffic accidents.\n",
    "attributes = ['Longitude', 'Latitude']\n",
    "geo = accident_df[attributes]\n",
    "\n",
    "# Kmeans to form cluster\n",
    "clusters = range(1, 12)\n",
    "xy= list()\n",
    "\n",
    "for i in clusters:\n",
    "    km = KMeans(n_clusters=i, random_state= 42)\n",
    "    km.fit(geo)\n",
    "    x = km.inertia_\n",
    "    xy.append(x)\n",
    "    \n",
    "plt.figure(figsize=(8,8))\n",
    "plt.xlabel('k')\n",
    "plt.ylabel('Distortion')\n",
    "plt.plot(clusters, xy)"
   ]
  },
  {
   "cell_type": "code",
   "execution_count": 387,
   "id": "f4e49515",
   "metadata": {},
   "outputs": [],
   "source": [
    "km = KMeans(n_clusters=4)\n",
    "km.fit(geo)\n",
    "labels = km.fit_predict(geo)\n",
    "centroids = km.cluster_centers_"
   ]
  },
  {
   "cell_type": "code",
   "execution_count": 388,
   "id": "bef5c5b4",
   "metadata": {},
   "outputs": [
    {
     "data": {
      "image/png": "[encoded data removed]",
      "text/plain": [
       "<Figure size 576x576 with 1 Axes>"
      ]
     },
     "metadata": {},
     "output_type": "display_data"
    }
   ],
   "source": [
    "fig = plt.figure(figsize=(8,8))\n",
    "plt.scatter(geo['Longitude'], geo['Latitude'], s=0.05)\n",
    "\n",
    "plt.scatter(centroids[:,0], centroids[:,1], color='orange')\n",
    "sns.despine()"
   ]
  },
  {
   "cell_type": "code",
   "execution_count": 391,
   "id": "080ebbbe",
   "metadata": {},
   "outputs": [
    {
     "data": {
      "image/png": "[encoded data removed]",
      "text/plain": [
       "<Figure size 396x684 with 1 Axes>"
      ]
     },
     "metadata": {},
     "output_type": "display_data"
    }
   ],
   "source": [
    "plt.figure(figsize=(5.5,9.5))\n",
    "plt.axes().set_facecolor(\"blue\")\n",
    "plt.scatter(x = accident_df[\"Longitude\"], y = accident_df[\"Latitude\"],s=0.005, alpha= 0.25, color=\"orange\")\n",
    "plt.title(\"Accident Distribution\")\n",
    "ax = plt.gca()\n",
    "ax.get_xaxis().set_visible(False)\n",
    "ax.get_yaxis().set_visible(False)\n",
    "plt.show()"
   ]
  },
  {
   "cell_type": "markdown",
   "id": "fdc6bad5",
   "metadata": {},
   "source": [
    "### QUESTION H - HOW DOES DRIVER RELATED VARIABLES AFFECT THE OUTCOME (E.G AGE OF THE DRIVER  AND THE PURPOSE OF THE JOURNEY )?"
   ]
  },
  {
   "cell_type": "markdown",
   "id": "8c373a8a",
   "metadata": {},
   "source": [
    "##### Age band of the driver"
   ]
  },
  {
   "cell_type": "code",
   "execution_count": 1,
   "id": "09a8692c",
   "metadata": {},
   "outputs": [
    {
     "ename": "NameError",
     "evalue": "name 'vehicles_df' is not defined",
     "output_type": "error",
     "traceback": [
      "\u001b[0;31m---------------------------------------------------------------------------\u001b[0m",
      "\u001b[0;31mNameError\u001b[0m                                 Traceback (most recent call last)",
      "Cell \u001b[0;32mIn[1], line 2\u001b[0m\n\u001b[1;32m      1\u001b[0m \u001b[38;5;66;03m#Unique age band of drivers involved in accident\u001b[39;00m\n\u001b[0;32m----> 2\u001b[0m \u001b[43mvehicles_df\u001b[49m[\u001b[38;5;124m'\u001b[39m\u001b[38;5;124mAge_Band_of_Driver\u001b[39m\u001b[38;5;124m'\u001b[39m]\u001b[38;5;241m.\u001b[39munique()\n",
      "\u001b[0;31mNameError\u001b[0m: name 'vehicles_df' is not defined"
     ]
    }
   ],
   "source": [
    "#Unique age band of drivers involved in accident\n",
    "vehicles_df['Age_Band_of_Driver'].unique()"
   ]
  },
  {
   "cell_type": "code",
   "execution_count": 393,
   "id": "a8d28e55",
   "metadata": {},
   "outputs": [
    {
     "data": {
      "image/png": "[encoded data removed]",
      "text/plain": [
       "<Figure size 576x504 with 1 Axes>"
      ]
     },
     "metadata": {},
     "output_type": "display_data"
    },
    {
     "data": {
      "text/plain": [
       "26-35           45993\n",
       "36-45           35341\n",
       "46-55           32281\n",
       "Out of range    29756\n",
       "21-25           20568\n",
       "56-65           20344\n",
       "16-20           13947\n",
       "66-75            9848\n",
       "Over 75          6169\n",
       "11-15            1727\n",
       "6-10              364\n",
       "0-5                43\n",
       "Name: Age_band, dtype: int64"
      ]
     },
     "execution_count": 393,
     "metadata": {},
     "output_type": "execute_result"
    }
   ],
   "source": [
    "# an histogram ranking the frequency of accidents according to the age band of the driver\n",
    "fig, axs = plt.subplots(nrows=1, ncols=1, constrained_layout=True, figsize=(8,7))\n",
    "vehicles_df['Age_band'] = vehicles_df['Age_Band_of_Driver'].map({1: '0-5', 2: '6-10', 3: '11-15', 4: '16-20', 5: '21-25', 6: '26-35', 7: '36-45', 8: '46-55', 9: '56-65', 10: '66-75', 11: 'Over 75', -1: 'Out of range'}) \n",
    "age = vehicles_df['Age_band'].value_counts()\n",
    "sns.barplot(ax=axs, x = age.index, y = age)\n",
    "axs.set_title(\"Age\")\n",
    "axs.tick_params(labelrotation=90)\n",
    "plt.ylabel('Count')\n",
    "plt.xlabel('Age Band')\n",
    "plt.show()\n",
    "age"
   ]
  },
  {
   "cell_type": "markdown",
   "id": "770caa94",
   "metadata": {},
   "source": [
    "#### Journey purpose"
   ]
  },
  {
   "cell_type": "code",
   "execution_count": 2,
   "id": "63928e3f",
   "metadata": {},
   "outputs": [
    {
     "ename": "NameError",
     "evalue": "name 'vehicles_df' is not defined",
     "output_type": "error",
     "traceback": [
      "\u001b[0;31m---------------------------------------------------------------------------\u001b[0m",
      "\u001b[0;31mNameError\u001b[0m                                 Traceback (most recent call last)",
      "Cell \u001b[0;32mIn[2], line 1\u001b[0m\n\u001b[0;32m----> 1\u001b[0m vehicles_df[\u001b[38;5;124m'\u001b[39m\u001b[38;5;124mjourney_purpose\u001b[39m\u001b[38;5;124m'\u001b[39m] \u001b[38;5;241m=\u001b[39m \u001b[43mvehicles_df\u001b[49m[\u001b[38;5;124m'\u001b[39m\u001b[38;5;124mJourney_Purpose_of_Driver\u001b[39m\u001b[38;5;124m'\u001b[39m]\u001b[38;5;241m.\u001b[39mmap({\u001b[38;5;241m1\u001b[39m: \u001b[38;5;124m'\u001b[39m\u001b[38;5;124mJourney part of work\u001b[39m\u001b[38;5;124m'\u001b[39m, \u001b[38;5;241m2\u001b[39m: \u001b[38;5;124m'\u001b[39m\u001b[38;5;124mcommuting to/from work\u001b[39m\u001b[38;5;124m'\u001b[39m, \u001b[38;5;241m3\u001b[39m: \u001b[38;5;124m'\u001b[39m\u001b[38;5;124mTaking pupil to/from school\u001b[39m\u001b[38;5;124m'\u001b[39m, \u001b[38;5;241m4\u001b[39m: \u001b[38;5;124m'\u001b[39m\u001b[38;5;124mPupil riding to/from school\u001b[39m\u001b[38;5;124m'\u001b[39m, \u001b[38;5;241m5\u001b[39m: \u001b[38;5;124m'\u001b[39m\u001b[38;5;124mOther\u001b[39m\u001b[38;5;124m'\u001b[39m, \u001b[38;5;241m6\u001b[39m:\u001b[38;5;124m'\u001b[39m\u001b[38;5;124mNot known\u001b[39m\u001b[38;5;124m'\u001b[39m, \u001b[38;5;241m15\u001b[39m:\u001b[38;5;124m'\u001b[39m\u001b[38;5;124mOther/Not known\u001b[39m\u001b[38;5;124m'\u001b[39m, \u001b[38;5;241m-\u001b[39m\u001b[38;5;241m1\u001b[39m: \u001b[38;5;124m'\u001b[39m\u001b[38;5;124mData missing \u001b[39m\u001b[38;5;124m'\u001b[39m})\n\u001b[1;32m      2\u001b[0m fig, axs \u001b[38;5;241m=\u001b[39m plt\u001b[38;5;241m.\u001b[39msubplots(nrows\u001b[38;5;241m=\u001b[39m\u001b[38;5;241m1\u001b[39m, ncols\u001b[38;5;241m=\u001b[39m\u001b[38;5;241m1\u001b[39m, constrained_layout\u001b[38;5;241m=\u001b[39m\u001b[38;5;28;01mTrue\u001b[39;00m, figsize\u001b[38;5;241m=\u001b[39m(\u001b[38;5;241m8\u001b[39m,\u001b[38;5;241m7\u001b[39m))\n\u001b[1;32m      3\u001b[0m journey_purpose \u001b[38;5;241m=\u001b[39m vehicles_df[\u001b[38;5;124m'\u001b[39m\u001b[38;5;124mjourney_purpose\u001b[39m\u001b[38;5;124m'\u001b[39m]\u001b[38;5;241m.\u001b[39mvalue_counts()\n",
      "\u001b[0;31mNameError\u001b[0m: name 'vehicles_df' is not defined"
     ]
    }
   ],
   "source": [
    "vehicles_df['journey_purpose'] = vehicles_df['Journey_Purpose_of_Driver'].map({1: 'Journey part of work', 2: 'commuting to/from work', 3: 'Taking pupil to/from school', 4: 'Pupil riding to/from school', 5: 'Other', 6:'Not known', 15:'Other/Not known', -1: 'Data missing '})\n",
    "fig, axs = plt.subplots(nrows=1, ncols=1, constrained_layout=True, figsize=(8,7))\n",
    "journey_purpose = vehicles_df['journey_purpose'].value_counts()\n",
    "sns.barplot(ax=axs, x = journey_purpose.index, y = journey_purpose)\n",
    "axs.set_title(\"journey_purpose\")\n",
    "axs.tick_params(labelrotation=90)\n",
    "plt.show()\n",
    "journey_purpose"
   ]
  },
  {
   "cell_type": "code",
   "execution_count": 395,
   "id": "a2973b3a",
   "metadata": {},
   "outputs": [
    {
     "data": {
      "text/html": [
       "<div>\n",
       "<style scoped>\n",
       "    .dataframe tbody tr th:only-of-type {\n",
       "        vertical-align: middle;\n",
       "    }\n",
       "\n",
       "    .dataframe tbody tr th {\n",
       "        vertical-align: top;\n",
       "    }\n",
       "\n",
       "    .dataframe thead th {\n",
       "        text-align: right;\n",
       "    }\n",
       "</style>\n",
       "<table border=\"1\" class=\"dataframe\">\n",
       "  <thead>\n",
       "    <tr style=\"text-align: right;\">\n",
       "      <th></th>\n",
       "      <th>Accident_Index</th>\n",
       "      <th>Location_Easting_OSGR</th>\n",
       "      <th>Location_Northing_OSGR</th>\n",
       "      <th>Longitude</th>\n",
       "      <th>Latitude</th>\n",
       "      <th>Police_Force</th>\n",
       "      <th>Accident_Severity</th>\n",
       "      <th>Number_of_Vehicles</th>\n",
       "      <th>Number_of_Casualties</th>\n",
       "      <th>Date</th>\n",
       "      <th>...</th>\n",
       "      <th>Age_of_Driver</th>\n",
       "      <th>Age_Band_of_Driver</th>\n",
       "      <th>Engine_Capacity_(CC)</th>\n",
       "      <th>Propulsion_Code</th>\n",
       "      <th>Age_of_Vehicle</th>\n",
       "      <th>Driver_IMD_Decile</th>\n",
       "      <th>Driver_Home_Area_Type</th>\n",
       "      <th>Vehicle_IMD_Decile</th>\n",
       "      <th>Age_band</th>\n",
       "      <th>journey_purpose</th>\n",
       "    </tr>\n",
       "  </thead>\n",
       "  <tbody>\n",
       "    <tr>\n",
       "      <th>0</th>\n",
       "      <td>2019010128300</td>\n",
       "      <td>528218.0</td>\n",
       "      <td>180407.0</td>\n",
       "      <td>-0.153842</td>\n",
       "      <td>51.508057</td>\n",
       "      <td>1</td>\n",
       "      <td>3</td>\n",
       "      <td>2</td>\n",
       "      <td>3</td>\n",
       "      <td>2019-02-18</td>\n",
       "      <td>...</td>\n",
       "      <td>58</td>\n",
       "      <td>9</td>\n",
       "      <td>-1</td>\n",
       "      <td>-1</td>\n",
       "      <td>-1</td>\n",
       "      <td>2</td>\n",
       "      <td>1</td>\n",
       "      <td>2</td>\n",
       "      <td>56-65</td>\n",
       "      <td>Not known</td>\n",
       "    </tr>\n",
       "    <tr>\n",
       "      <th>1</th>\n",
       "      <td>2019010128300</td>\n",
       "      <td>528218.0</td>\n",
       "      <td>180407.0</td>\n",
       "      <td>-0.153842</td>\n",
       "      <td>51.508057</td>\n",
       "      <td>1</td>\n",
       "      <td>3</td>\n",
       "      <td>2</td>\n",
       "      <td>3</td>\n",
       "      <td>2019-02-18</td>\n",
       "      <td>...</td>\n",
       "      <td>-1</td>\n",
       "      <td>-1</td>\n",
       "      <td>-1</td>\n",
       "      <td>-1</td>\n",
       "      <td>-1</td>\n",
       "      <td>2</td>\n",
       "      <td>1</td>\n",
       "      <td>2</td>\n",
       "      <td>Out of range</td>\n",
       "      <td>Not known</td>\n",
       "    </tr>\n",
       "    <tr>\n",
       "      <th>2</th>\n",
       "      <td>2019010152270</td>\n",
       "      <td>530219.0</td>\n",
       "      <td>172463.0</td>\n",
       "      <td>-0.127949</td>\n",
       "      <td>51.436208</td>\n",
       "      <td>1</td>\n",
       "      <td>3</td>\n",
       "      <td>2</td>\n",
       "      <td>1</td>\n",
       "      <td>2019-01-15</td>\n",
       "      <td>...</td>\n",
       "      <td>24</td>\n",
       "      <td>5</td>\n",
       "      <td>-1</td>\n",
       "      <td>-1</td>\n",
       "      <td>-1</td>\n",
       "      <td>3</td>\n",
       "      <td>1</td>\n",
       "      <td>3</td>\n",
       "      <td>21-25</td>\n",
       "      <td>Not known</td>\n",
       "    </tr>\n",
       "    <tr>\n",
       "      <th>3</th>\n",
       "      <td>2019010152270</td>\n",
       "      <td>530219.0</td>\n",
       "      <td>172463.0</td>\n",
       "      <td>-0.127949</td>\n",
       "      <td>51.436208</td>\n",
       "      <td>1</td>\n",
       "      <td>3</td>\n",
       "      <td>2</td>\n",
       "      <td>1</td>\n",
       "      <td>2019-01-15</td>\n",
       "      <td>...</td>\n",
       "      <td>-1</td>\n",
       "      <td>-1</td>\n",
       "      <td>-1</td>\n",
       "      <td>-1</td>\n",
       "      <td>-1</td>\n",
       "      <td>6</td>\n",
       "      <td>1</td>\n",
       "      <td>6</td>\n",
       "      <td>Out of range</td>\n",
       "      <td>Not known</td>\n",
       "    </tr>\n",
       "    <tr>\n",
       "      <th>4</th>\n",
       "      <td>2019010155191</td>\n",
       "      <td>530222.0</td>\n",
       "      <td>182543.0</td>\n",
       "      <td>-0.124193</td>\n",
       "      <td>51.526795</td>\n",
       "      <td>1</td>\n",
       "      <td>3</td>\n",
       "      <td>2</td>\n",
       "      <td>1</td>\n",
       "      <td>2019-01-01</td>\n",
       "      <td>...</td>\n",
       "      <td>45</td>\n",
       "      <td>7</td>\n",
       "      <td>-1</td>\n",
       "      <td>-1</td>\n",
       "      <td>-1</td>\n",
       "      <td>4</td>\n",
       "      <td>1</td>\n",
       "      <td>4</td>\n",
       "      <td>36-45</td>\n",
       "      <td>Not known</td>\n",
       "    </tr>\n",
       "    <tr>\n",
       "      <th>...</th>\n",
       "      <td>...</td>\n",
       "      <td>...</td>\n",
       "      <td>...</td>\n",
       "      <td>...</td>\n",
       "      <td>...</td>\n",
       "      <td>...</td>\n",
       "      <td>...</td>\n",
       "      <td>...</td>\n",
       "      <td>...</td>\n",
       "      <td>...</td>\n",
       "      <td>...</td>\n",
       "      <td>...</td>\n",
       "      <td>...</td>\n",
       "      <td>...</td>\n",
       "      <td>...</td>\n",
       "      <td>...</td>\n",
       "      <td>...</td>\n",
       "      <td>...</td>\n",
       "      <td>...</td>\n",
       "      <td>...</td>\n",
       "      <td>...</td>\n",
       "    </tr>\n",
       "    <tr>\n",
       "      <th>214043</th>\n",
       "      <td>2019984107019</td>\n",
       "      <td>337522.0</td>\n",
       "      <td>591682.0</td>\n",
       "      <td>-2.983499</td>\n",
       "      <td>55.215407</td>\n",
       "      <td>98</td>\n",
       "      <td>3</td>\n",
       "      <td>4</td>\n",
       "      <td>1</td>\n",
       "      <td>2019-05-30</td>\n",
       "      <td>...</td>\n",
       "      <td>20</td>\n",
       "      <td>4</td>\n",
       "      <td>2198</td>\n",
       "      <td>2</td>\n",
       "      <td>4</td>\n",
       "      <td>5</td>\n",
       "      <td>3</td>\n",
       "      <td>5</td>\n",
       "      <td>16-20</td>\n",
       "      <td>Journey part of work</td>\n",
       "    </tr>\n",
       "    <tr>\n",
       "      <th>214044</th>\n",
       "      <td>2019984107219</td>\n",
       "      <td>318544.0</td>\n",
       "      <td>567087.0</td>\n",
       "      <td>-3.274645</td>\n",
       "      <td>54.991685</td>\n",
       "      <td>98</td>\n",
       "      <td>3</td>\n",
       "      <td>2</td>\n",
       "      <td>1</td>\n",
       "      <td>2019-06-21</td>\n",
       "      <td>...</td>\n",
       "      <td>33</td>\n",
       "      <td>6</td>\n",
       "      <td>1997</td>\n",
       "      <td>2</td>\n",
       "      <td>12</td>\n",
       "      <td>3</td>\n",
       "      <td>2</td>\n",
       "      <td>3</td>\n",
       "      <td>26-35</td>\n",
       "      <td>Not known</td>\n",
       "    </tr>\n",
       "    <tr>\n",
       "      <th>214045</th>\n",
       "      <td>2019984107219</td>\n",
       "      <td>318544.0</td>\n",
       "      <td>567087.0</td>\n",
       "      <td>-3.274645</td>\n",
       "      <td>54.991685</td>\n",
       "      <td>98</td>\n",
       "      <td>3</td>\n",
       "      <td>2</td>\n",
       "      <td>1</td>\n",
       "      <td>2019-06-21</td>\n",
       "      <td>...</td>\n",
       "      <td>61</td>\n",
       "      <td>9</td>\n",
       "      <td>2967</td>\n",
       "      <td>2</td>\n",
       "      <td>5</td>\n",
       "      <td>7</td>\n",
       "      <td>3</td>\n",
       "      <td>7</td>\n",
       "      <td>56-65</td>\n",
       "      <td>Not known</td>\n",
       "    </tr>\n",
       "    <tr>\n",
       "      <th>214046</th>\n",
       "      <td>2019984107419</td>\n",
       "      <td>336525.0</td>\n",
       "      <td>584226.0</td>\n",
       "      <td>-2.997491</td>\n",
       "      <td>55.148292</td>\n",
       "      <td>98</td>\n",
       "      <td>3</td>\n",
       "      <td>1</td>\n",
       "      <td>1</td>\n",
       "      <td>2019-06-29</td>\n",
       "      <td>...</td>\n",
       "      <td>78</td>\n",
       "      <td>11</td>\n",
       "      <td>1597</td>\n",
       "      <td>2</td>\n",
       "      <td>6</td>\n",
       "      <td>8</td>\n",
       "      <td>3</td>\n",
       "      <td>8</td>\n",
       "      <td>Over 75</td>\n",
       "      <td>Other</td>\n",
       "    </tr>\n",
       "    <tr>\n",
       "      <th>214047</th>\n",
       "      <td>201998QC01004</td>\n",
       "      <td>291367.0</td>\n",
       "      <td>608364.0</td>\n",
       "      <td>-3.715064</td>\n",
       "      <td>55.357237</td>\n",
       "      <td>98</td>\n",
       "      <td>2</td>\n",
       "      <td>1</td>\n",
       "      <td>1</td>\n",
       "      <td>2019-04-21</td>\n",
       "      <td>...</td>\n",
       "      <td>55</td>\n",
       "      <td>8</td>\n",
       "      <td>599</td>\n",
       "      <td>1</td>\n",
       "      <td>20</td>\n",
       "      <td>4</td>\n",
       "      <td>1</td>\n",
       "      <td>4</td>\n",
       "      <td>46-55</td>\n",
       "      <td>Not known</td>\n",
       "    </tr>\n",
       "  </tbody>\n",
       "</table>\n",
       "<p>214048 rows × 81 columns</p>\n",
       "</div>"
      ],
      "text/plain": [
       "       Accident_Index  Location_Easting_OSGR  Location_Northing_OSGR  \\\n",
       "0       2019010128300               528218.0                180407.0   \n",
       "1       2019010128300               528218.0                180407.0   \n",
       "2       2019010152270               530219.0                172463.0   \n",
       "3       2019010152270               530219.0                172463.0   \n",
       "4       2019010155191               530222.0                182543.0   \n",
       "...               ...                    ...                     ...   \n",
       "214043  2019984107019               337522.0                591682.0   \n",
       "214044  2019984107219               318544.0                567087.0   \n",
       "214045  2019984107219               318544.0                567087.0   \n",
       "214046  2019984107419               336525.0                584226.0   \n",
       "214047  201998QC01004               291367.0                608364.0   \n",
       "\n",
       "        Longitude   Latitude  Police_Force  Accident_Severity  \\\n",
       "0       -0.153842  51.508057             1                  3   \n",
       "1       -0.153842  51.508057             1                  3   \n",
       "2       -0.127949  51.436208             1                  3   \n",
       "3       -0.127949  51.436208             1                  3   \n",
       "4       -0.124193  51.526795             1                  3   \n",
       "...           ...        ...           ...                ...   \n",
       "214043  -2.983499  55.215407            98                  3   \n",
       "214044  -3.274645  54.991685            98                  3   \n",
       "214045  -3.274645  54.991685            98                  3   \n",
       "214046  -2.997491  55.148292            98                  3   \n",
       "214047  -3.715064  55.357237            98                  2   \n",
       "\n",
       "        Number_of_Vehicles  Number_of_Casualties       Date  ...  \\\n",
       "0                        2                     3 2019-02-18  ...   \n",
       "1                        2                     3 2019-02-18  ...   \n",
       "2                        2                     1 2019-01-15  ...   \n",
       "3                        2                     1 2019-01-15  ...   \n",
       "4                        2                     1 2019-01-01  ...   \n",
       "...                    ...                   ...        ...  ...   \n",
       "214043                   4                     1 2019-05-30  ...   \n",
       "214044                   2                     1 2019-06-21  ...   \n",
       "214045                   2                     1 2019-06-21  ...   \n",
       "214046                   1                     1 2019-06-29  ...   \n",
       "214047                   1                     1 2019-04-21  ...   \n",
       "\n",
       "        Age_of_Driver Age_Band_of_Driver  Engine_Capacity_(CC)  \\\n",
       "0                  58                  9                    -1   \n",
       "1                  -1                 -1                    -1   \n",
       "2                  24                  5                    -1   \n",
       "3                  -1                 -1                    -1   \n",
       "4                  45                  7                    -1   \n",
       "...               ...                ...                   ...   \n",
       "214043             20                  4                  2198   \n",
       "214044             33                  6                  1997   \n",
       "214045             61                  9                  2967   \n",
       "214046             78                 11                  1597   \n",
       "214047             55                  8                   599   \n",
       "\n",
       "       Propulsion_Code  Age_of_Vehicle  Driver_IMD_Decile  \\\n",
       "0                   -1              -1                  2   \n",
       "1                   -1              -1                  2   \n",
       "2                   -1              -1                  3   \n",
       "3                   -1              -1                  6   \n",
       "4                   -1              -1                  4   \n",
       "...                ...             ...                ...   \n",
       "214043               2               4                  5   \n",
       "214044               2              12                  3   \n",
       "214045               2               5                  7   \n",
       "214046               2               6                  8   \n",
       "214047               1              20                  4   \n",
       "\n",
       "        Driver_Home_Area_Type  Vehicle_IMD_Decile      Age_band  \\\n",
       "0                           1                   2         56-65   \n",
       "1                           1                   2  Out of range   \n",
       "2                           1                   3         21-25   \n",
       "3                           1                   6  Out of range   \n",
       "4                           1                   4         36-45   \n",
       "...                       ...                 ...           ...   \n",
       "214043                      3                   5         16-20   \n",
       "214044                      2                   3         26-35   \n",
       "214045                      3                   7         56-65   \n",
       "214046                      3                   8       Over 75   \n",
       "214047                      1                   4         46-55   \n",
       "\n",
       "             journey_purpose  \n",
       "0                  Not known  \n",
       "1                  Not known  \n",
       "2                  Not known  \n",
       "3                  Not known  \n",
       "4                  Not known  \n",
       "...                      ...  \n",
       "214043  Journey part of work  \n",
       "214044             Not known  \n",
       "214045             Not known  \n",
       "214046                 Other  \n",
       "214047             Not known  \n",
       "\n",
       "[214048 rows x 81 columns]"
      ]
     },
     "execution_count": 395,
     "metadata": {},
     "output_type": "execute_result"
    }
   ],
   "source": [
    "factors = ['Journey_Purpose_of_Driver','Age_of_Driver','Sex_of_Driver','Driver_Home_Area_Type','Age_of_Vehicle']\n",
    "accident_vehicles_df=accident_df.merge(vehicles_df, on=['Accident_Index'], how='inner')\n",
    "factors_coded= accident_vehicles_df.dropna()\n",
    "factors_coded.reset_index(drop=True)"
   ]
  },
  {
   "cell_type": "code",
   "execution_count": 396,
   "id": "314ecf38",
   "metadata": {},
   "outputs": [],
   "source": [
    "select_feature = factors_coded.filter( ['Age_of_Driver','Journey_Purpose_of_Driver','Accident_Severity','Sex_of_Driver','Age_of_Vehicle','Driver_Home_Area_Type'], axis=1)\n",
    "conditional_feature = select_feature[(select_feature['Age_of_Driver'] > 0) & (select_feature['Journey_Purpose_of_Driver'] > 0) & (select_feature['Sex_of_Driver'] > 0) & (select_feature['Age_of_Vehicle'] > 0)& (select_feature['Driver_Home_Area_Type'] > 0)]\n"
   ]
  },
  {
   "cell_type": "code",
   "execution_count": 397,
   "id": "377ae9a8",
   "metadata": {},
   "outputs": [
    {
     "data": {
      "image/png": "[encoded data removed]",
      "text/plain": [
       "<Figure size 432x288 with 1 Axes>"
      ]
     },
     "metadata": {},
     "output_type": "display_data"
    }
   ],
   "source": [
    "# Perform the feature selection\n",
    "selector = SelectKBest(f_classif, k=\"all\")\n",
    "selector.fit(conditional_feature[factors], conditional_feature[\"Accident_Severity\"])\n",
    "scores = -np.log10(selector.pvalues_)\n",
    "# plot the score using pyplot \n",
    "plt.bar(range(len(factors)), scores)\n",
    "plt.xticks(range(len(factors)), factors, rotation='vertical')\n",
    "plt.show()"
   ]
  },
  {
   "cell_type": "markdown",
   "id": "3b4f63ac",
   "metadata": {},
   "source": [
    "### QUESTION I - CAN WE MAKE PREDICITIONS ABOUT WHEN AND WHERE ACCIDENTS WILL OCCUR, AND THE SEVERITY OF THE INJURIES SUSTAINED FROM THE DATA SUPPLIED TO IMPROVE ROAD SAFETY? HOW WELL DO OUR MODELS COMPARE TO GOVERNMENT MODELS?"
   ]
  },
  {
   "cell_type": "code",
   "execution_count": 461,
   "id": "e0ca6a2b",
   "metadata": {},
   "outputs": [],
   "source": [
    "# Decision Tree Classifier\n",
    "from sklearn.model_selection import train_test_split\n",
    "y_target = conditional_feature[\"Accident_Severity\"].values\n",
    "Xfeatures = conditional_feature.drop(\"Accident_Severity\", axis=1)\n",
    "X_train, X_validation, y_train, y_validation = train_test_split(Xfeatures,y_target,test_size=.25,random_state=1)"
   ]
  },
  {
   "cell_type": "code",
   "execution_count": 462,
   "id": "68253800",
   "metadata": {},
   "outputs": [],
   "source": [
    "from sklearn import tree\n",
    "from sklearn.tree import DecisionTreeClassifier\n",
    "decision_tree = DecisionTreeClassifier(criterion=\"gini\") \n",
    "decision_tree.fit(X_train, y_train)\n",
    "Y_pred = decision_tree.predict(X_validation)\n",
    "sk_report = classification_report(digits=6,y_true=y_validation,y_pred=Y_pred)"
   ]
  },
  {
   "cell_type": "code",
   "execution_count": 463,
   "id": "cabe78bc",
   "metadata": {},
   "outputs": [
    {
     "name": "stdout",
     "output_type": "stream",
     "text": [
      "Accuracy 82.54\n"
     ]
    }
   ],
   "source": [
    "accuracy = round(decision_tree.score(X_train, y_train) * 100, 2)\n",
    "print(\"Accuracy\",accuracy)"
   ]
  },
  {
   "cell_type": "code",
   "execution_count": null,
   "id": "eb9f6cb8",
   "metadata": {},
   "outputs": [],
   "source": [
    "#### The Dataset for this analysis is the 2019 UK Road Traffic Dataset\n",
    "#### Objectives: \n",
    "###### 1. What hours of the day and days of the week record the highest accident\n",
    "###### 2. For Motorbikes, are there significant hours of the day of days of the week , on which accidents occur\n",
    "###### 3. For Pedestrian are there significant hours of the day of days of the week , on which accidents occur\n",
    "###### 4. What impact, if any, does daylight savings have on road traffic accidents in the week after it starts and stops?\n",
    "###### 5. Are there particular conditions (weather, geographic location, situations) that generate more road traffic accidents?\n",
    "###### 6. How does driver related variables affect the outcome (e.g., age of the driver, and the purpose of the journey)?\n"
   ]
  },
  {
   "cell_type": "markdown",
   "id": "f848b9dd",
   "metadata": {},
   "source": [
    "###.From the analysis of the data, accident frequency is at the lowest during the early hours of the morning , reaching the lowest at about 4:00 AM before rising sharply as the day goes by. Accidents recorded in the morning peaks at 7:00 AM before dopping as the the day progresses. The hours between 15:00- 18:00 has the highest accidents recorded with the high of the day being at the 17:00 hour mark. These peaks and falls in accident is consistent with human activities  with lowest point of the day indctiing time where most people are still in bed sleeping , the rise in the early morning rush hour can be associated with daily runs like people rushing to work and school , keeping gthe road busy. Late afternoon rush hour records the highest frequency of accidents in the day , this could be associated with end of the day activities like coose from work, people going out to relaxation joints and students returning  from school.\n",
    "\n",
    "Day of the week with the highest accidmets recorded is Fridays with the lowest being on Sundays. Friday marks the end of the work week and most people tend to go out on the friday and begin the weekend \"buzz\". Sunday, on the other hand, is the day most people tend to stay indoor and get ready for the week ahead. Other days of the week also recorded significant surge in accidents with fairly consistent rise from Monday through Thursday before peaking on Friday."
   ]
  }
 ],
 "metadata": {
  "kernelspec": {
   "display_name": "Python 3 (ipykernel)",
   "language": "python",
   "name": "python3"
  },
  "language_info": {
   "codemirror_mode": {
    "name": "ipython",
    "version": 3
   },
   "file_extension": ".py",
   "mimetype": "text/x-python",
   "name": "python",
   "nbconvert_exporter": "python",
   "pygments_lexer": "ipython3",
   "version": "3.10.6"
  }
 },
 "nbformat": 4,
 "nbformat_minor": 5
}
